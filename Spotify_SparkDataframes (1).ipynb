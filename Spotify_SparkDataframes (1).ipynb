{
  "nbformat": 4,
  "nbformat_minor": 0,
  "metadata": {
    "colab": {
      "provenance": []
    },
    "kernelspec": {
      "name": "python3",
      "display_name": "Python 3"
    },
    "language_info": {
      "name": "python"
    }
  },
  "cells": [
    {
      "cell_type": "code",
      "execution_count": 382,
      "metadata": {
        "id": "7BQvKYuWulGA"
      },
      "outputs": [],
      "source": [
        "# # Installing required packages\n",
        "# !pip install pyspark\n",
        "# !pip install findspark\n",
        "# !pip install pyarrow==1.0.0\n",
        "# !pip install pandas\n",
        "# !pip install numpy==1.19.5"
      ]
    },
    {
      "cell_type": "code",
      "source": [
        "import findspark\n",
        "findspark.init()\n",
        "import pandas as pd\n",
        "from pyspark import SparkContext, SparkConf\n",
        "from pyspark.sql import SparkSession"
      ],
      "metadata": {
        "id": "VbE7Xd4IAzU5"
      },
      "execution_count": 383,
      "outputs": []
    },
    {
      "cell_type": "code",
      "source": [
        "# Create a SparkSession\n",
        "spark = SparkSession.builder \\\n",
        "    .appName(\"MusicAnalysis\") \\\n",
        "    .getOrCreate()\n"
      ],
      "metadata": {
        "id": "0eX6l4hgDj-s"
      },
      "execution_count": 384,
      "outputs": []
    },
    {
      "cell_type": "code",
      "source": [
        "music_df = spark.read.csv(\"/content/music_streaming.csv\", header=True, inferSchema=True)"
      ],
      "metadata": {
        "id": "iNZF-3jX2qUF"
      },
      "execution_count": 385,
      "outputs": []
    },
    {
      "cell_type": "code",
      "source": [
        "music_df.printSchema()"
      ],
      "metadata": {
        "colab": {
          "base_uri": "https://localhost:8080/"
        },
        "id": "1vDgm1p32z8G",
        "outputId": "31a98773-4c54-4671-a9a6-4ee47e8f3325"
      },
      "execution_count": 386,
      "outputs": [
        {
          "output_type": "stream",
          "name": "stdout",
          "text": [
            "root\n",
            " |-- Artist Name: string (nullable = true)\n",
            " |-- Track Name: string (nullable = true)\n",
            " |-- Popularity: string (nullable = true)\n",
            " |-- danceability: string (nullable = true)\n",
            " |-- energy: string (nullable = true)\n",
            " |-- key: integer (nullable = true)\n",
            " |-- loudness: double (nullable = true)\n",
            " |-- mode: double (nullable = true)\n",
            " |-- speechiness: double (nullable = true)\n",
            " |-- acousticness: double (nullable = true)\n",
            " |-- instrumentalness: double (nullable = true)\n",
            " |-- liveness: double (nullable = true)\n",
            " |-- valence: double (nullable = true)\n",
            " |-- tempo: double (nullable = true)\n",
            " |-- duration_in min/ms: double (nullable = true)\n",
            " |-- time_signature: double (nullable = true)\n",
            " |-- Genre: double (nullable = true)\n",
            "\n"
          ]
        }
      ]
    },
    {
      "cell_type": "markdown",
      "source": [
        "## Data Processing"
      ],
      "metadata": {
        "id": "UrLNt92EA-wT"
      }
    },
    {
      "cell_type": "markdown",
      "source": [
        "### Missing Values"
      ],
      "metadata": {
        "id": "FPaavICdBHV6"
      }
    },
    {
      "cell_type": "code",
      "source": [
        "from pyspark.sql.functions import isnan, when, count , col\n",
        "\n",
        "# Check for missing values\n",
        "missing_counts = music_df.select([count(when(isnan(c) | col(c).isNull(), c)).alias(c) for c in music_df.columns])\n",
        "missing_counts.show()"
      ],
      "metadata": {
        "colab": {
          "base_uri": "https://localhost:8080/"
        },
        "id": "KG9XZjDKbkDI",
        "outputId": "465c4870-f531-4c87-de69-ec308f1d4e55"
      },
      "execution_count": 387,
      "outputs": [
        {
          "output_type": "stream",
          "name": "stdout",
          "text": [
            "+-----------+----------+----------+------------+------+----+--------+----+-----------+------------+----------------+--------+-------+-----+------------------+--------------+-----+\n",
            "|Artist Name|Track Name|Popularity|danceability|energy| key|loudness|mode|speechiness|acousticness|instrumentalness|liveness|valence|tempo|duration_in min/ms|time_signature|Genre|\n",
            "+-----------+----------+----------+------------+------+----+--------+----+-----------+------------+----------------+--------+-------+-----+------------------+--------------+-----+\n",
            "|          0|         0|       394|           0|     0|1743|       0|   0|          0|           0|            3587|       0|      0|    0|                 0|             0|    0|\n",
            "+-----------+----------+----------+------------+------+----+--------+----+-----------+------------+----------------+--------+-------+-----+------------------+--------------+-----+\n",
            "\n"
          ]
        }
      ]
    },
    {
      "cell_type": "code",
      "source": [
        "# Drop rows where Popularity is missing\n",
        "music_df = music_df.na.drop(subset=[\"Popularity\"])"
      ],
      "metadata": {
        "id": "LHm117gt3CN1"
      },
      "execution_count": 388,
      "outputs": []
    },
    {
      "cell_type": "code",
      "source": [
        "# Drop the 'key' column\n",
        "music_df = music_df.drop(\"key\")"
      ],
      "metadata": {
        "id": "xE64w_EM3HPw"
      },
      "execution_count": 389,
      "outputs": []
    },
    {
      "cell_type": "markdown",
      "source": [
        "Here we are calculating the mean of the 'instrumentalness' column for each group of rows grouped by 'Artist Name'. Then, we fill the missing (NaN) values in the 'instrumentalness' column with the mean of each artist's instrumentalness."
      ],
      "metadata": {
        "id": "PI0mYmmfBabc"
      }
    },
    {
      "cell_type": "code",
      "source": [
        "from pyspark.sql import SparkSession\n",
        "from pyspark.sql.functions import col, avg, when\n",
        "from pyspark.sql.window import Window"
      ],
      "metadata": {
        "id": "fX91rZEv4ma1"
      },
      "execution_count": 390,
      "outputs": []
    },
    {
      "cell_type": "code",
      "source": [
        "# Impute missing values in 'instrumentalness' with the mean of the instrumentalness of each artist\n",
        "window = Window.partitionBy(\"Artist Name\")\n",
        "music_df = music_df.withColumn(\"instrumentalness\",\n",
        "                                when(col(\"instrumentalness\").isNull(),\n",
        "                                     avg(col(\"instrumentalness\")).over(window))\n",
        "                                .otherwise(col(\"instrumentalness\")))"
      ],
      "metadata": {
        "id": "VxUgc3_a3SRj"
      },
      "execution_count": 391,
      "outputs": []
    },
    {
      "cell_type": "markdown",
      "source": [
        "I fill missing values in the 'instrumentalness' column of my DataFrame with the mean of all non-missing values in that column and then count how many missing values remain."
      ],
      "metadata": {
        "id": "nYnRLKOjBcXS"
      }
    },
    {
      "cell_type": "code",
      "source": [
        " # Impute missing values in 'instrumentalness' with the mean of all instrumentalness values\n",
        "instrumentalness_mean = music_df.select(avg(\"instrumentalness\")).collect()[0][0]\n",
        "music_df = music_df.withColumn(\"instrumentalness\",\n",
        "                                when(col(\"instrumentalness\").isNull(),\n",
        "                                     instrumentalness_mean)\n",
        "                                .otherwise(col(\"instrumentalness\")))"
      ],
      "metadata": {
        "id": "chaaALRO3T5S"
      },
      "execution_count": 392,
      "outputs": []
    },
    {
      "cell_type": "code",
      "source": [
        "# Check the data types of each column\n",
        "music_df.printSchema()"
      ],
      "metadata": {
        "colab": {
          "base_uri": "https://localhost:8080/"
        },
        "id": "zRk-dTU0dQBZ",
        "outputId": "fb94121d-bd3e-4f1e-d2ba-7c90540f54e8"
      },
      "execution_count": 393,
      "outputs": [
        {
          "output_type": "stream",
          "name": "stdout",
          "text": [
            "root\n",
            " |-- Artist Name: string (nullable = true)\n",
            " |-- Track Name: string (nullable = true)\n",
            " |-- Popularity: string (nullable = true)\n",
            " |-- danceability: string (nullable = true)\n",
            " |-- energy: string (nullable = true)\n",
            " |-- loudness: double (nullable = true)\n",
            " |-- mode: double (nullable = true)\n",
            " |-- speechiness: double (nullable = true)\n",
            " |-- acousticness: double (nullable = true)\n",
            " |-- instrumentalness: double (nullable = true)\n",
            " |-- liveness: double (nullable = true)\n",
            " |-- valence: double (nullable = true)\n",
            " |-- tempo: double (nullable = true)\n",
            " |-- duration_in min/ms: double (nullable = true)\n",
            " |-- time_signature: double (nullable = true)\n",
            " |-- Genre: double (nullable = true)\n",
            "\n"
          ]
        }
      ]
    },
    {
      "cell_type": "code",
      "source": [
        "from pyspark.sql.functions import isnan, when, count\n",
        "\n",
        "# Check for missing values\n",
        "missing_counts = music_df.select([count(when(isnan(c) | col(c).isNull(), c)).alias(c) for c in music_df.columns])\n",
        "missing_counts.show()"
      ],
      "metadata": {
        "colab": {
          "base_uri": "https://localhost:8080/"
        },
        "id": "C6Gh_ksj6QEc",
        "outputId": "bbec4201-b6aa-4b94-8e85-7ecc2e5b4edc"
      },
      "execution_count": 394,
      "outputs": [
        {
          "output_type": "stream",
          "name": "stdout",
          "text": [
            "+-----------+----------+----------+------------+------+--------+----+-----------+------------+----------------+--------+-------+-----+------------------+--------------+-----+\n",
            "|Artist Name|Track Name|Popularity|danceability|energy|loudness|mode|speechiness|acousticness|instrumentalness|liveness|valence|tempo|duration_in min/ms|time_signature|Genre|\n",
            "+-----------+----------+----------+------------+------+--------+----+-----------+------------+----------------+--------+-------+-----+------------------+--------------+-----+\n",
            "|          0|         0|         0|           0|     0|       0|   0|          0|           0|               0|       0|      0|    0|                 0|             0|    0|\n",
            "+-----------+----------+----------+------------+------+--------+----+-----------+------------+----------------+--------+-------+-----+------------------+--------------+-----+\n",
            "\n"
          ]
        }
      ]
    },
    {
      "cell_type": "markdown",
      "source": [
        "### Duplicates"
      ],
      "metadata": {
        "id": "RABCddHVBlgk"
      }
    },
    {
      "cell_type": "code",
      "source": [
        "# Before removing duplicates\n",
        "rows_before = music_df.count()\n",
        "\n",
        "# Drop duplicate rows based on 'Track Name' and 'Artist Name'\n",
        "df_no_duplicates = music_df.dropDuplicates([\"Track Name\", \"Artist Name\",\"danceability\",\"energy\"])\n",
        "\n",
        "# Drop duplicate rows based on 'Track Name'\n",
        "df_no_duplicates = music_df.dropDuplicates([\"Track Name\"])\n",
        "\n",
        "# after removing duplicates\n",
        "rows_after = df_no_duplicates.count()\n",
        "\n",
        "print(\"Number of rows before removing duplicates:\", rows_before)\n",
        "print(\"Number of rows after removing duplicates:\", rows_after)\n"
      ],
      "metadata": {
        "colab": {
          "base_uri": "https://localhost:8080/"
        },
        "id": "EjuVT33GhAgU",
        "outputId": "adc36968-5984-4a9f-b7fd-33eb775b911b"
      },
      "execution_count": 395,
      "outputs": [
        {
          "output_type": "stream",
          "name": "stdout",
          "text": [
            "Number of rows before removing duplicates: 15123\n",
            "Number of rows after removing duplicates: 12712\n"
          ]
        }
      ]
    },
    {
      "cell_type": "markdown",
      "source": [
        "### Transformation"
      ],
      "metadata": {
        "id": "NMg02y0PBxib"
      }
    },
    {
      "cell_type": "markdown",
      "source": [
        "Transform duration to minutes only"
      ],
      "metadata": {
        "id": "ljoVLckQB1bV"
      }
    },
    {
      "cell_type": "code",
      "source": [
        "from pyspark.sql.functions import col\n",
        "\n",
        "# Convert \"duration_in min/ms\" column to minutes only\n",
        "music_df = music_df.withColumn(\"duration_in_min\", col(\"duration_in min/ms\") / 60000)\n",
        "\n",
        "# Drop the original \"duration_in min/ms\" column\n",
        "music_df = music_df.drop(\"duration_in min/ms\")"
      ],
      "metadata": {
        "id": "cPcZPxTTkJ-s"
      },
      "execution_count": 396,
      "outputs": []
    },
    {
      "cell_type": "code",
      "source": [
        "from pyspark.sql.functions import col\n",
        "\n",
        "# Convert specified columns to double data type\n",
        "music_df = music_df.withColumn(\"Popularity\", col(\"Popularity\").cast(\"double\"))\n",
        "music_df = music_df.withColumn(\"danceability\", col(\"danceability\").cast(\"double\"))\n",
        "music_df = music_df.withColumn(\"energy\", col(\"energy\").cast(\"double\"))\n",
        "music_df = music_df.na.drop(subset=[\"Popularity\",\"danceability\",\"energy\"])\n"
      ],
      "metadata": {
        "id": "ZyKVzz3Z3pas"
      },
      "execution_count": 397,
      "outputs": []
    },
    {
      "cell_type": "code",
      "source": [
        "music_df.printSchema()"
      ],
      "metadata": {
        "colab": {
          "base_uri": "https://localhost:8080/"
        },
        "id": "Rpix4lPWiThc",
        "outputId": "d6030381-7787-44bd-ba56-1c64c5e16b73"
      },
      "execution_count": 398,
      "outputs": [
        {
          "output_type": "stream",
          "name": "stdout",
          "text": [
            "root\n",
            " |-- Artist Name: string (nullable = true)\n",
            " |-- Track Name: string (nullable = true)\n",
            " |-- Popularity: double (nullable = true)\n",
            " |-- danceability: double (nullable = true)\n",
            " |-- energy: double (nullable = true)\n",
            " |-- loudness: double (nullable = true)\n",
            " |-- mode: double (nullable = true)\n",
            " |-- speechiness: double (nullable = true)\n",
            " |-- acousticness: double (nullable = true)\n",
            " |-- instrumentalness: double (nullable = true)\n",
            " |-- liveness: double (nullable = true)\n",
            " |-- valence: double (nullable = true)\n",
            " |-- tempo: double (nullable = true)\n",
            " |-- time_signature: double (nullable = true)\n",
            " |-- Genre: double (nullable = true)\n",
            " |-- duration_in_min: double (nullable = true)\n",
            "\n"
          ]
        }
      ]
    },
    {
      "cell_type": "markdown",
      "source": [
        "a) Which genre has the highest average popularity?"
      ],
      "metadata": {
        "id": "rD0adbmDB_Z6"
      }
    },
    {
      "cell_type": "code",
      "source": [
        "from pyspark.sql import SparkSession\n",
        "from pyspark.sql.functions import col, avg, desc"
      ],
      "metadata": {
        "id": "9URz-6nuFifD"
      },
      "execution_count": 399,
      "outputs": []
    },
    {
      "cell_type": "code",
      "source": [
        "genre_avg_popularity = music_df.groupBy('Genre').agg(avg(col('Popularity')).alias('AvgPopularity'))\n",
        "highest_avg_popularity_genre = genre_avg_popularity.orderBy(desc('AvgPopularity')).first()['Genre']\n",
        "print(\"Genre with highest average popularity:\", highest_avg_popularity_genre)\n"
      ],
      "metadata": {
        "colab": {
          "base_uri": "https://localhost:8080/"
        },
        "id": "zbqErHUKH1ol",
        "outputId": "e49c5627-dd2d-4c5f-d5a1-84a103cf858b"
      },
      "execution_count": 400,
      "outputs": [
        {
          "output_type": "stream",
          "name": "stdout",
          "text": [
            "Genre with highest average popularity: 4.0\n"
          ]
        }
      ]
    },
    {
      "cell_type": "markdown",
      "source": [
        "b) Display which artists have recorded the most number of songs with a duration of more than 5 minutes"
      ],
      "metadata": {
        "id": "JOLGwUujCEj3"
      }
    },
    {
      "cell_type": "code",
      "source": [
        "artists_most_songs_gt_5mins = music_df.filter(col('duration_in_min') > 5).groupBy('Artist Name').count().orderBy(desc('count'))\n",
        "print(\"Artists with most songs longer than 5 minutes:\")\n",
        "artists_most_songs_gt_5mins.show()"
      ],
      "metadata": {
        "colab": {
          "base_uri": "https://localhost:8080/"
        },
        "id": "rhCDiJC9CNGA",
        "outputId": "3ab551b2-d3a5-4b27-a4cf-5a05ddabe72c"
      },
      "execution_count": 401,
      "outputs": [
        {
          "output_type": "stream",
          "name": "stdout",
          "text": [
            "Artists with most songs longer than 5 minutes:\n",
            "+--------------------+-----+\n",
            "|         Artist Name|count|\n",
            "+--------------------+-----+\n",
            "|           Metallica|   21|\n",
            "|                TOOL|   13|\n",
            "|         Arcade Fire|   12|\n",
            "|        Led Zeppelin|   11|\n",
            "|           Pearl Jam|    9|\n",
            "|           Aerosmith|    9|\n",
            "|               Kyuss|    6|\n",
            "|Kenny Wayne Shepherd|    6|\n",
            "|       Wooden Shjips|    6|\n",
            "|         Sonic Youth|    6|\n",
            "|             Pantera|    6|\n",
            "|       Joe Bonamassa|    6|\n",
            "|               Opeth|    5|\n",
            "|                  U2|    5|\n",
            "|         Patti Smith|    5|\n",
            "|        Dire Straits|    5|\n",
            "|   Avenged Sevenfold|    5|\n",
            "|      Monster Magnet|    5|\n",
            "|     Bernard Allison|    5|\n",
            "| Derek & The Dominos|    5|\n",
            "+--------------------+-----+\n",
            "only showing top 20 rows\n",
            "\n"
          ]
        }
      ]
    },
    {
      "cell_type": "markdown",
      "source": [
        "c) How many songs are included in every Genre?\n"
      ],
      "metadata": {
        "id": "Fhwfc9lNCO1s"
      }
    },
    {
      "cell_type": "code",
      "source": [
        "songs_count_per_genre = music_df.groupBy('Genre').count().orderBy('Genre')\n",
        "print(\"Number of songs per Genre:\")\n",
        "songs_count_per_genre.show()"
      ],
      "metadata": {
        "colab": {
          "base_uri": "https://localhost:8080/"
        },
        "id": "9UowjmodCS-G",
        "outputId": "dda32c72-b469-4147-8da4-f3303b52e5f2"
      },
      "execution_count": 402,
      "outputs": [
        {
          "output_type": "stream",
          "name": "stdout",
          "text": [
            "Number of songs per Genre:\n",
            "+-----+-----+\n",
            "|Genre|count|\n",
            "+-----+-----+\n",
            "|  0.0|  517|\n",
            "|  1.0| 1241|\n",
            "|  2.0| 1169|\n",
            "|  3.0|  358|\n",
            "|  4.0|  357|\n",
            "|  5.0| 1189|\n",
            "|  6.0| 2223|\n",
            "|  7.0|  440|\n",
            "|  8.0| 1675|\n",
            "|  9.0| 1768|\n",
            "| 10.0| 4185|\n",
            "+-----+-----+\n",
            "\n"
          ]
        }
      ]
    },
    {
      "cell_type": "markdown",
      "source": [
        "d) Which artists dominated the charts?"
      ],
      "metadata": {
        "id": "Hx9m0QRqCT61"
      }
    },
    {
      "cell_type": "code",
      "source": [
        "from pyspark.sql.functions import col, avg, desc\n",
        "\n",
        "# Find the dominant artists based on the average popularity\n",
        "dominant_artists = music_df.groupBy('Artist Name').agg(avg('Popularity').alias('AveragePopularity')).orderBy(desc('AveragePopularity'))\n",
        "\n",
        "print(\"Dominant artists based on average popularity:\")\n",
        "dominant_artists.show()\n"
      ],
      "metadata": {
        "colab": {
          "base_uri": "https://localhost:8080/"
        },
        "id": "puitp3dECZt0",
        "outputId": "eb5b09c9-1965-414d-b7a8-36f21413eb49"
      },
      "execution_count": 403,
      "outputs": [
        {
          "output_type": "stream",
          "name": "stdout",
          "text": [
            "Dominant artists based on average popularity:\n",
            "+--------------------+-----------------+\n",
            "|         Artist Name|AveragePopularity|\n",
            "+--------------------+-----------------+\n",
            "|            Måneskin|            100.0|\n",
            "|The Kid LAROI, Ju...|             97.0|\n",
            "|       Doja Cat, SZA|             95.0|\n",
            "|     Los Legendarios|             95.0|\n",
            "|Justin Bieber, Da...|             95.0|\n",
            "|The Weeknd, Arian...|             94.0|\n",
            "|          Nio Garcia|             93.0|\n",
            "|Riton, Nightcrawl...|             92.0|\n",
            "|                 ATB|             91.0|\n",
            "|          Tion Wayne|             90.0|\n",
            "|             Cardi B|             90.0|\n",
            "|    Dua Lipa, DaBaby|             90.0|\n",
            "|          The Weeknd|            89.25|\n",
            "|        Nathan Evans|             89.0|\n",
            "|  Majestic, Boney M.|             89.0|\n",
            "|                 SZA|             89.0|\n",
            "|Galantis, David G...|             89.0|\n",
            "|     ATB, Topic, A7S|             88.0|\n",
            "|  Travis Scott, HVME|             88.0|\n",
            "|        Bella Poarch|             88.0|\n",
            "+--------------------+-----------------+\n",
            "only showing top 20 rows\n",
            "\n"
          ]
        }
      ]
    },
    {
      "cell_type": "markdown",
      "source": [
        "e) Recommend at least 5 fun/not-boring songs that can be played at a party, you can use features like\n",
        "energy, danceability etc.. to represent cheerfulness."
      ],
      "metadata": {
        "id": "n4pFPzPNCc4r"
      }
    },
    {
      "cell_type": "code",
      "source": [
        "party_songs_recommendation = music_df.filter((col('energy') > 0.7) & (col('danceability') > 0.7)).orderBy(desc('Popularity')).limit(5)\n",
        "print(\"Recommended party songs:\")\n",
        "party_songs_recommendation.show()"
      ],
      "metadata": {
        "colab": {
          "base_uri": "https://localhost:8080/"
        },
        "id": "peYE7HabChUa",
        "outputId": "57cd0455-d4c3-45cf-be0b-10c2882686fc"
      },
      "execution_count": 404,
      "outputs": [
        {
          "output_type": "stream",
          "name": "stdout",
          "text": [
            "Recommended party songs:\n",
            "+-------------+--------------------+----------+------------+------+--------+----+-----------+------------+-----------------+--------+-------+-------+--------------+-----+--------------------+\n",
            "|  Artist Name|          Track Name|Popularity|danceability|energy|loudness|mode|speechiness|acousticness| instrumentalness|liveness|valence|  tempo|time_signature|Genre|     duration_in_min|\n",
            "+-------------+--------------------+----------+------------+------+--------+----+-----------+------------+-----------------+--------+-------+-------+--------------+-----+--------------------+\n",
            "|     Måneskin|             Beggin'|     100.0|       0.714|   0.8|  -4.808| 0.0|     0.0504|       0.127|0.160956687886367|   0.359|  0.589|134.002|           4.0|  9.0|5.876666666666666E-5|\n",
            "|     Doja Cat|Kiss Me More (fea...|      98.0|       0.762| 0.701|  -3.541| 1.0|     0.0286|       0.235|          1.58E-4|   0.123|  0.742|110.968|           4.0|  5.0|   3.481116666666667|\n",
            "|   Ed Sheeran|          Bad Habits|      97.0|       0.808| 0.897|  -3.712| 0.0|     0.0348|      0.0469|          3.14E-5|   0.364|  0.591|126.026|           4.0|  9.0|       6.41780555E-5|\n",
            "|Doja Cat, SZA|Kiss Me More (fea...|      95.0|       0.762| 0.701|  -3.541| 1.0|     0.0286|       0.235|          1.58E-4|   0.123|  0.742|110.968|           4.0|  9.0|5.801861111666667E-5|\n",
            "|          BTS| Permission to Dance|      95.0|       0.702| 0.741|   -5.33| 1.0|     0.0427|     0.00544|0.160956687886367|   0.337|  0.646|124.925|           4.0|  9.0|       5.21069445E-5|\n",
            "+-------------+--------------------+----------+------------+------+--------+----+-----------+------------+-----------------+--------+-------+-------+--------------+-----+--------------------+\n",
            "\n"
          ]
        }
      ]
    },
    {
      "cell_type": "markdown",
      "source": [
        "# ML MODELS"
      ],
      "metadata": {
        "id": "_yn3HGEjjJQD"
      }
    },
    {
      "cell_type": "code",
      "source": [
        "from pyspark.ml.feature import VectorAssembler\n",
        "from pyspark.ml.classification import LogisticRegression, RandomForestClassifier, DecisionTreeClassifier\n",
        "from pyspark.ml.evaluation import MulticlassClassificationEvaluator\n",
        "from pyspark.ml import Pipeline\n",
        "\n",
        "# Split the data into training and testing sets\n",
        "train_data, test_data = music_df.randomSplit([0.8, 0.2], seed=42)\n",
        "\n",
        "# Assemble features vector\n",
        "assembler = VectorAssembler(inputCols=['Popularity', 'danceability', 'energy', 'duration_in_min'], outputCol='features')\n",
        "assembled_train_data = assembler.transform(train_data)\n",
        "assembled_test_data = assembler.transform(test_data)\n",
        "\n",
        "# Logistic Regression classifier\n",
        "lr = LogisticRegression(labelCol='Genre', featuresCol='features', maxIter=10)\n",
        "lr_pipeline = Pipeline(stages=[lr])\n",
        "lr_model = lr_pipeline.fit(assembled_train_data)\n",
        "lr_predictions = lr_model.transform(assembled_test_data)\n",
        "\n",
        "# Random Forest classifier\n",
        "rf = RandomForestClassifier(labelCol='Genre', featuresCol='features', numTrees=10)\n",
        "rf_pipeline = Pipeline(stages=[rf])\n",
        "rf_model = rf_pipeline.fit(assembled_train_data)\n",
        "rf_predictions = rf_model.transform(assembled_test_data)\n",
        "\n",
        "# Decision Tree classifier\n",
        "dt = DecisionTreeClassifier(labelCol='Genre', featuresCol='features')\n",
        "dt_pipeline = Pipeline(stages=[dt])\n",
        "dt_model = dt_pipeline.fit(assembled_train_data)\n",
        "dt_predictions = dt_model.transform(assembled_test_data)\n",
        "\n",
        "# Evaluation\n",
        "evaluator = MulticlassClassificationEvaluator(labelCol='Genre', predictionCol='prediction', metricName='accuracy')\n",
        "\n",
        "lr_accuracy = evaluator.evaluate(lr_predictions)\n",
        "rf_accuracy = evaluator.evaluate(rf_predictions)\n",
        "dt_accuracy = evaluator.evaluate(dt_predictions)\n",
        "\n",
        "print(\"Logistic Regression Accuracy:\", lr_accuracy)\n",
        "print(\"Random Forest Accuracy:\", rf_accuracy)\n",
        "print(\"Decision Tree Accuracy:\", dt_accuracy)"
      ],
      "metadata": {
        "colab": {
          "base_uri": "https://localhost:8080/"
        },
        "id": "XIhkqfgoqXk_",
        "outputId": "95d86276-4192-471a-c3d1-e641343c00e7"
      },
      "execution_count": 405,
      "outputs": [
        {
          "output_type": "stream",
          "name": "stdout",
          "text": [
            "Logistic Regression Accuracy: 0.4133513149022252\n",
            "Random Forest Accuracy: 0.42211732973701954\n",
            "Decision Tree Accuracy: 0.40424814565070805\n"
          ]
        }
      ]
    },
    {
      "cell_type": "markdown",
      "source": [
        "## Insights"
      ],
      "metadata": {
        "id": "qaSGufziz-Xq"
      }
    },
    {
      "cell_type": "markdown",
      "source": [
        "Random Forest achieved the highest accuracy (42%) in predicting song genres based on provided features, outperforming Logistic Regression (41%) and Decision Tree (40%) models."
      ],
      "metadata": {
        "id": "OryArdiz0B7u"
      }
    }
  ]
}