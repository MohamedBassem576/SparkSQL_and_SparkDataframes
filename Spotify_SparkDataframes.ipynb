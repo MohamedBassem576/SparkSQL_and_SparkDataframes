{
  "nbformat": 4,
  "nbformat_minor": 0,
  "metadata": {
    "colab": {
      "provenance": []
    },
    "kernelspec": {
      "name": "python3",
      "display_name": "Python 3"
    },
    "language_info": {
      "name": "python"
    }
  },
  "cells": [
    {
      "cell_type": "code",
      "execution_count": 54,
      "metadata": {
        "id": "7BQvKYuWulGA"
      },
      "outputs": [],
      "source": [
        "# Installing required packages\n",
        "!pip install pyspark\n",
        "!pip install findspark\n",
        "!pip install pyarrow==1.0.0\n",
        "!pip install pandas\n",
        "!pip install numpy==1.19.5"
      ]
    },
    {
      "cell_type": "code",
      "source": [
        "import findspark\n",
        "findspark.init()\n",
        "import pandas as pd\n",
        "from pyspark import SparkContext, SparkConf\n",
        "from pyspark.sql import SparkSession"
      ],
      "metadata": {
        "id": "VbE7Xd4IAzU5"
      },
      "execution_count": 55,
      "outputs": []
    },
    {
      "cell_type": "code",
      "source": [
        "# Create a SparkSession\n",
        "spark = SparkSession.builder \\\n",
        "    .appName(\"MusicAnalysis\") \\\n",
        "    .getOrCreate()\n"
      ],
      "metadata": {
        "id": "0eX6l4hgDj-s"
      },
      "execution_count": 56,
      "outputs": []
    },
    {
      "cell_type": "code",
      "source": [
        "music_df = spark.read.csv(\"/content/music_streaming.csv\", header=True, inferSchema=True)"
      ],
      "metadata": {
        "id": "iNZF-3jX2qUF"
      },
      "execution_count": 57,
      "outputs": []
    },
    {
      "cell_type": "code",
      "source": [
        "music_df.printSchema()"
      ],
      "metadata": {
        "colab": {
          "base_uri": "https://localhost:8080/"
        },
        "id": "1vDgm1p32z8G",
        "outputId": "452b9d65-4ff0-49f9-f110-904a69338208"
      },
      "execution_count": 58,
      "outputs": [
        {
          "output_type": "stream",
          "name": "stdout",
          "text": [
            "root\n",
            " |-- Artist Name: string (nullable = true)\n",
            " |-- Track Name: string (nullable = true)\n",
            " |-- Popularity: string (nullable = true)\n",
            " |-- danceability: string (nullable = true)\n",
            " |-- energy: string (nullable = true)\n",
            " |-- key: integer (nullable = true)\n",
            " |-- loudness: double (nullable = true)\n",
            " |-- mode: double (nullable = true)\n",
            " |-- speechiness: double (nullable = true)\n",
            " |-- acousticness: double (nullable = true)\n",
            " |-- instrumentalness: double (nullable = true)\n",
            " |-- liveness: double (nullable = true)\n",
            " |-- valence: double (nullable = true)\n",
            " |-- tempo: double (nullable = true)\n",
            " |-- duration_in min/ms: double (nullable = true)\n",
            " |-- time_signature: double (nullable = true)\n",
            " |-- Genre: double (nullable = true)\n",
            "\n"
          ]
        }
      ]
    },
    {
      "cell_type": "markdown",
      "source": [
        "## Data Processing"
      ],
      "metadata": {
        "id": "UrLNt92EA-wT"
      }
    },
    {
      "cell_type": "markdown",
      "source": [
        "### Missing Values"
      ],
      "metadata": {
        "id": "FPaavICdBHV6"
      }
    },
    {
      "cell_type": "code",
      "source": [
        "from pyspark.sql.functions import isnan, when, count , col\n",
        "\n",
        "# Check for missing values\n",
        "missing_counts = music_df.select([count(when(isnan(c) | col(c).isNull(), c)).alias(c) for c in music_df.columns])\n",
        "missing_counts.show()"
      ],
      "metadata": {
        "colab": {
          "base_uri": "https://localhost:8080/"
        },
        "id": "KG9XZjDKbkDI",
        "outputId": "e703b335-5849-444a-c17a-571ae93c3266"
      },
      "execution_count": 59,
      "outputs": [
        {
          "output_type": "stream",
          "name": "stdout",
          "text": [
            "+-----------+----------+----------+------------+------+----+--------+----+-----------+------------+----------------+--------+-------+-----+------------------+--------------+-----+\n",
            "|Artist Name|Track Name|Popularity|danceability|energy| key|loudness|mode|speechiness|acousticness|instrumentalness|liveness|valence|tempo|duration_in min/ms|time_signature|Genre|\n",
            "+-----------+----------+----------+------------+------+----+--------+----+-----------+------------+----------------+--------+-------+-----+------------------+--------------+-----+\n",
            "|          0|         0|       394|           0|     0|1743|       0|   0|          0|           0|            3587|       0|      0|    0|                 0|             0|    0|\n",
            "+-----------+----------+----------+------------+------+----+--------+----+-----------+------------+----------------+--------+-------+-----+------------------+--------------+-----+\n",
            "\n"
          ]
        }
      ]
    },
    {
      "cell_type": "code",
      "source": [
        "# Drop rows where Popularity is missing\n",
        "music_df = music_df.na.drop(subset=[\"Popularity\"])"
      ],
      "metadata": {
        "id": "LHm117gt3CN1"
      },
      "execution_count": 60,
      "outputs": []
    },
    {
      "cell_type": "code",
      "source": [
        "# Drop the 'key' column\n",
        "music_df = music_df.drop(\"key\")"
      ],
      "metadata": {
        "id": "xE64w_EM3HPw"
      },
      "execution_count": 61,
      "outputs": []
    },
    {
      "cell_type": "markdown",
      "source": [
        "Here we are calculating the mean of the 'instrumentalness' column for each group of rows grouped by 'Artist Name'. Then, we fill the missing (NaN) values in the 'instrumentalness' column with the mean of each artist's instrumentalness."
      ],
      "metadata": {
        "id": "PI0mYmmfBabc"
      }
    },
    {
      "cell_type": "code",
      "source": [
        "from pyspark.sql import SparkSession\n",
        "from pyspark.sql.functions import col, avg, when\n",
        "from pyspark.sql.window import Window"
      ],
      "metadata": {
        "id": "fX91rZEv4ma1"
      },
      "execution_count": 62,
      "outputs": []
    },
    {
      "cell_type": "code",
      "source": [
        "# Impute missing values in 'instrumentalness' with the mean of the instrumentalness of each artist\n",
        "window = Window.partitionBy(\"Artist Name\")\n",
        "music_df = music_df.withColumn(\"instrumentalness\",\n",
        "                                when(col(\"instrumentalness\").isNull(),\n",
        "                                     avg(col(\"instrumentalness\")).over(window))\n",
        "                                .otherwise(col(\"instrumentalness\")))"
      ],
      "metadata": {
        "id": "VxUgc3_a3SRj"
      },
      "execution_count": 63,
      "outputs": []
    },
    {
      "cell_type": "markdown",
      "source": [
        "I fill missing values in the 'instrumentalness' column of my DataFrame with the mean of all non-missing values in that column and then count how many missing values remain."
      ],
      "metadata": {
        "id": "nYnRLKOjBcXS"
      }
    },
    {
      "cell_type": "code",
      "source": [
        " # Impute missing values in 'instrumentalness' with the mean of all instrumentalness values\n",
        "instrumentalness_mean = music_df.select(avg(\"instrumentalness\")).collect()[0][0]\n",
        "music_df = music_df.withColumn(\"instrumentalness\",\n",
        "                                when(col(\"instrumentalness\").isNull(),\n",
        "                                     instrumentalness_mean)\n",
        "                                .otherwise(col(\"instrumentalness\")))"
      ],
      "metadata": {
        "id": "chaaALRO3T5S"
      },
      "execution_count": 64,
      "outputs": []
    },
    {
      "cell_type": "code",
      "source": [
        "# Check the data types of each column\n",
        "music_df.printSchema()"
      ],
      "metadata": {
        "colab": {
          "base_uri": "https://localhost:8080/"
        },
        "id": "zRk-dTU0dQBZ",
        "outputId": "aa978c35-8177-4f8f-9572-3b9fdb3505d2"
      },
      "execution_count": 65,
      "outputs": [
        {
          "output_type": "stream",
          "name": "stdout",
          "text": [
            "root\n",
            " |-- Artist Name: string (nullable = true)\n",
            " |-- Track Name: string (nullable = true)\n",
            " |-- Popularity: string (nullable = true)\n",
            " |-- danceability: string (nullable = true)\n",
            " |-- energy: string (nullable = true)\n",
            " |-- loudness: double (nullable = true)\n",
            " |-- mode: double (nullable = true)\n",
            " |-- speechiness: double (nullable = true)\n",
            " |-- acousticness: double (nullable = true)\n",
            " |-- instrumentalness: double (nullable = true)\n",
            " |-- liveness: double (nullable = true)\n",
            " |-- valence: double (nullable = true)\n",
            " |-- tempo: double (nullable = true)\n",
            " |-- duration_in min/ms: double (nullable = true)\n",
            " |-- time_signature: double (nullable = true)\n",
            " |-- Genre: double (nullable = true)\n",
            "\n"
          ]
        }
      ]
    },
    {
      "cell_type": "code",
      "source": [
        "from pyspark.sql.functions import isnan, when, count\n",
        "\n",
        "# Check for missing values\n",
        "missing_counts = music_df.select([count(when(isnan(c) | col(c).isNull(), c)).alias(c) for c in music_df.columns])\n",
        "missing_counts.show()"
      ],
      "metadata": {
        "colab": {
          "base_uri": "https://localhost:8080/"
        },
        "id": "C6Gh_ksj6QEc",
        "outputId": "c87605ca-12ec-4b82-fda0-36322652c6bd"
      },
      "execution_count": 66,
      "outputs": [
        {
          "output_type": "stream",
          "name": "stdout",
          "text": [
            "+-----------+----------+----------+------------+------+--------+----+-----------+------------+----------------+--------+-------+-----+------------------+--------------+-----+\n",
            "|Artist Name|Track Name|Popularity|danceability|energy|loudness|mode|speechiness|acousticness|instrumentalness|liveness|valence|tempo|duration_in min/ms|time_signature|Genre|\n",
            "+-----------+----------+----------+------------+------+--------+----+-----------+------------+----------------+--------+-------+-----+------------------+--------------+-----+\n",
            "|          0|         0|         0|           0|     0|       0|   0|          0|           0|               0|       0|      0|    0|                 0|             0|    0|\n",
            "+-----------+----------+----------+------------+------+--------+----+-----------+------------+----------------+--------+-------+-----+------------------+--------------+-----+\n",
            "\n"
          ]
        }
      ]
    },
    {
      "cell_type": "markdown",
      "source": [
        "### Duplicates"
      ],
      "metadata": {
        "id": "RABCddHVBlgk"
      }
    },
    {
      "cell_type": "code",
      "source": [
        "from pyspark.sql.functions import col\n",
        "\n",
        "# Check number of duplicate rows before removing duplicates\n",
        "print(\"Number of duplicate rows before removing duplicates:\", music_df.count() - music_df.dropDuplicates([\"Track Name\", \"Artist Name\"]).count())\n",
        "\n",
        "# Remove duplicate rows based on \"Track Name\" and \"Artist Name\" columns\n",
        "df = music_df.dropDuplicates([\"Track Name\", \"Artist Name\"])\n",
        "\n",
        "# Check number of duplicate rows after removing duplicates\n",
        "print(\"Number of duplicate rows after removing duplicates:\", df.count())\n"
      ],
      "metadata": {
        "colab": {
          "base_uri": "https://localhost:8080/"
        },
        "id": "EjuVT33GhAgU",
        "outputId": "b49e171e-52af-4d2b-d9ab-5c2232ec8d37"
      },
      "execution_count": 67,
      "outputs": [
        {
          "output_type": "stream",
          "name": "stdout",
          "text": [
            "Number of duplicate rows before removing duplicates: 1583\n",
            "Number of duplicate rows after removing duplicates: 13540\n"
          ]
        }
      ]
    },
    {
      "cell_type": "markdown",
      "source": [
        "### Transformation"
      ],
      "metadata": {
        "id": "NMg02y0PBxib"
      }
    },
    {
      "cell_type": "markdown",
      "source": [
        "Transform duration to minutes only"
      ],
      "metadata": {
        "id": "ljoVLckQB1bV"
      }
    },
    {
      "cell_type": "code",
      "source": [
        "from pyspark.sql.functions import col\n",
        "\n",
        "# Convert \"duration_in min/ms\" column to minutes only\n",
        "music_df = music_df.withColumn(\"duration_in_min\", col(\"duration_in min/ms\") / 60000)\n",
        "\n",
        "# Drop the original \"duration_in min/ms\" column\n",
        "music_df = music_df.drop(\"duration_in min/ms\")"
      ],
      "metadata": {
        "id": "cPcZPxTTkJ-s"
      },
      "execution_count": 68,
      "outputs": []
    },
    {
      "cell_type": "code",
      "source": [
        "from pyspark.sql.functions import col\n",
        "\n",
        "# Convert specified columns to double data type\n",
        "music_df = music_df.withColumn(\"Popularity\", col(\"Popularity\").cast(\"double\"))\n",
        "music_df = music_df.withColumn(\"danceability\", col(\"danceability\").cast(\"double\"))\n",
        "music_df = music_df.withColumn(\"energy\", col(\"energy\").cast(\"double\"))\n",
        "music_df = music_df.na.drop(subset=[\"Popularity\",\"danceability\",\"energy\"])\n"
      ],
      "metadata": {
        "id": "ZyKVzz3Z3pas"
      },
      "execution_count": 69,
      "outputs": []
    },
    {
      "cell_type": "code",
      "source": [
        "music_df.printSchema()"
      ],
      "metadata": {
        "colab": {
          "base_uri": "https://localhost:8080/"
        },
        "id": "Rpix4lPWiThc",
        "outputId": "fedd8679-1b04-4985-f8e1-483937606fe4"
      },
      "execution_count": 70,
      "outputs": [
        {
          "output_type": "stream",
          "name": "stdout",
          "text": [
            "root\n",
            " |-- Artist Name: string (nullable = true)\n",
            " |-- Track Name: string (nullable = true)\n",
            " |-- Popularity: double (nullable = true)\n",
            " |-- danceability: double (nullable = true)\n",
            " |-- energy: double (nullable = true)\n",
            " |-- loudness: double (nullable = true)\n",
            " |-- mode: double (nullable = true)\n",
            " |-- speechiness: double (nullable = true)\n",
            " |-- acousticness: double (nullable = true)\n",
            " |-- instrumentalness: double (nullable = true)\n",
            " |-- liveness: double (nullable = true)\n",
            " |-- valence: double (nullable = true)\n",
            " |-- tempo: double (nullable = true)\n",
            " |-- time_signature: double (nullable = true)\n",
            " |-- Genre: double (nullable = true)\n",
            " |-- duration_in_min: double (nullable = true)\n",
            "\n"
          ]
        }
      ]
    },
    {
      "cell_type": "markdown",
      "source": [
        "a) Which genre has the highest average popularity?"
      ],
      "metadata": {
        "id": "rD0adbmDB_Z6"
      }
    },
    {
      "cell_type": "code",
      "source": [
        "from pyspark.sql import SparkSession\n",
        "from pyspark.sql.functions import col, avg, desc"
      ],
      "metadata": {
        "id": "9URz-6nuFifD"
      },
      "execution_count": 71,
      "outputs": []
    },
    {
      "cell_type": "code",
      "source": [
        "genre_avg_popularity = music_df.groupBy('Genre').agg(avg(col('Popularity')).alias('AvgPopularity'))\n",
        "highest_avg_popularity_genre = genre_avg_popularity.orderBy(desc('AvgPopularity')).first()['Genre']\n",
        "print(\"Genre with highest average popularity:\", highest_avg_popularity_genre)\n"
      ],
      "metadata": {
        "colab": {
          "base_uri": "https://localhost:8080/"
        },
        "id": "zbqErHUKH1ol",
        "outputId": "d910f5a4-0b1e-4081-d85d-b14f3030740f"
      },
      "execution_count": 72,
      "outputs": [
        {
          "output_type": "stream",
          "name": "stdout",
          "text": [
            "Genre with highest average popularity: 4.0\n"
          ]
        }
      ]
    },
    {
      "cell_type": "markdown",
      "source": [
        "b) Display which artists have recorded the most number of songs with a duration of more than 5 minutes"
      ],
      "metadata": {
        "id": "JOLGwUujCEj3"
      }
    },
    {
      "cell_type": "code",
      "source": [
        "artists_most_songs_gt_5mins = music_df.filter(col('duration_in_min') > 5).groupBy('Artist Name').count().orderBy(desc('count'))\n",
        "print(\"Artists with most songs longer than 5 minutes:\")\n",
        "artists_most_songs_gt_5mins.show()"
      ],
      "metadata": {
        "colab": {
          "base_uri": "https://localhost:8080/"
        },
        "id": "rhCDiJC9CNGA",
        "outputId": "118d3103-aa72-4f23-f26e-2ef3072a14e5"
      },
      "execution_count": 73,
      "outputs": [
        {
          "output_type": "stream",
          "name": "stdout",
          "text": [
            "Artists with most songs longer than 5 minutes:\n",
            "+--------------------+-----+\n",
            "|         Artist Name|count|\n",
            "+--------------------+-----+\n",
            "|           Metallica|   21|\n",
            "|                TOOL|   13|\n",
            "|         Arcade Fire|   12|\n",
            "|        Led Zeppelin|   11|\n",
            "|           Pearl Jam|    9|\n",
            "|           Aerosmith|    9|\n",
            "|               Kyuss|    6|\n",
            "|Kenny Wayne Shepherd|    6|\n",
            "|       Wooden Shjips|    6|\n",
            "|         Sonic Youth|    6|\n",
            "|             Pantera|    6|\n",
            "|       Joe Bonamassa|    6|\n",
            "|               Opeth|    5|\n",
            "|                  U2|    5|\n",
            "|         Patti Smith|    5|\n",
            "|        Dire Straits|    5|\n",
            "|   Avenged Sevenfold|    5|\n",
            "|      Monster Magnet|    5|\n",
            "|     Bernard Allison|    5|\n",
            "| Derek & The Dominos|    5|\n",
            "+--------------------+-----+\n",
            "only showing top 20 rows\n",
            "\n"
          ]
        }
      ]
    },
    {
      "cell_type": "markdown",
      "source": [
        "c) How many songs are included in every Genre?\n"
      ],
      "metadata": {
        "id": "Fhwfc9lNCO1s"
      }
    },
    {
      "cell_type": "code",
      "source": [
        "songs_count_per_genre = music_df.groupBy('Genre').count().orderBy('Genre')\n",
        "print(\"Number of songs per Genre:\")\n",
        "songs_count_per_genre.show()"
      ],
      "metadata": {
        "colab": {
          "base_uri": "https://localhost:8080/"
        },
        "id": "9UowjmodCS-G",
        "outputId": "9f373246-88c7-47ee-8283-853036f525d1"
      },
      "execution_count": 74,
      "outputs": [
        {
          "output_type": "stream",
          "name": "stdout",
          "text": [
            "Number of songs per Genre:\n",
            "+-----+-----+\n",
            "|Genre|count|\n",
            "+-----+-----+\n",
            "|  0.0|  517|\n",
            "|  1.0| 1241|\n",
            "|  2.0| 1169|\n",
            "|  3.0|  358|\n",
            "|  4.0|  357|\n",
            "|  5.0| 1189|\n",
            "|  6.0| 2223|\n",
            "|  7.0|  440|\n",
            "|  8.0| 1675|\n",
            "|  9.0| 1768|\n",
            "| 10.0| 4185|\n",
            "+-----+-----+\n",
            "\n"
          ]
        }
      ]
    },
    {
      "cell_type": "markdown",
      "source": [
        "d) Which artists dominated the charts?"
      ],
      "metadata": {
        "id": "Hx9m0QRqCT61"
      }
    },
    {
      "cell_type": "code",
      "source": [
        "from pyspark.sql.functions import col, count, desc\n",
        "# Find the dominant artists based on the count of their songs\n",
        "dominant_artists = music_df.groupBy('Artist Name').agg(count('Track Name').alias('SongCount')).orderBy(desc('SongCount'))\n",
        "print(\"Dominant artists based on song count:\")\n",
        "dominant_artists.show()"
      ],
      "metadata": {
        "colab": {
          "base_uri": "https://localhost:8080/"
        },
        "id": "puitp3dECZt0",
        "outputId": "5edf03a5-5ecf-41db-a93b-cf9ed9329dda"
      },
      "execution_count": 75,
      "outputs": [
        {
          "output_type": "stream",
          "name": "stdout",
          "text": [
            "Dominant artists based on song count:\n",
            "+--------------------+---------+\n",
            "|         Artist Name|SongCount|\n",
            "+--------------------+---------+\n",
            "|     Backstreet Boys|       66|\n",
            "|      Britney Spears|       43|\n",
            "|  The Rolling Stones|       32|\n",
            "|                  U2|       29|\n",
            "|           Metallica|       27|\n",
            "|            Westlife|       27|\n",
            "|     Lata Mangeshkar|       23|\n",
            "|               AC/DC|       23|\n",
            "|      The Black Keys|       22|\n",
            "|       Fleetwood Mac|       22|\n",
            "|             Nirvana|       22|\n",
            "|        Led Zeppelin|       22|\n",
            "|       Mohammed Rafi|       21|\n",
            "|            Coldplay|       20|\n",
            "|       Kishore Kumar|       20|\n",
            "|           Pearl Jam|       18|\n",
            "|The Smashing Pump...|       17|\n",
            "|           Van Halen|       17|\n",
            "|Creedence Clearwa...|       17|\n",
            "|           Aerosmith|       17|\n",
            "+--------------------+---------+\n",
            "only showing top 20 rows\n",
            "\n"
          ]
        }
      ]
    },
    {
      "cell_type": "markdown",
      "source": [
        "e) Recommend at least 5 fun/not-boring songs that can be played at a party, you can use features like\n",
        "energy, danceability etc.. to represent cheerfulness."
      ],
      "metadata": {
        "id": "n4pFPzPNCc4r"
      }
    },
    {
      "cell_type": "code",
      "source": [
        "party_songs_recommendation = music_df.filter((col('energy') > 0.7) & (col('danceability') > 0.7)).orderBy(desc('Popularity')).limit(5)\n",
        "print(\"Recommended party songs:\")\n",
        "party_songs_recommendation.show()"
      ],
      "metadata": {
        "colab": {
          "base_uri": "https://localhost:8080/"
        },
        "id": "peYE7HabChUa",
        "outputId": "d35ce547-b9df-47ad-ffaf-7d2cacf97103"
      },
      "execution_count": 76,
      "outputs": [
        {
          "output_type": "stream",
          "name": "stdout",
          "text": [
            "Recommended party songs:\n",
            "+-------------+--------------------+----------+------------+------+--------+----+-----------+------------+-----------------+--------+-------+-------+--------------+-----+--------------------+\n",
            "|  Artist Name|          Track Name|Popularity|danceability|energy|loudness|mode|speechiness|acousticness| instrumentalness|liveness|valence|  tempo|time_signature|Genre|     duration_in_min|\n",
            "+-------------+--------------------+----------+------------+------+--------+----+-----------+------------+-----------------+--------+-------+-------+--------------+-----+--------------------+\n",
            "|     Måneskin|             Beggin'|     100.0|       0.714|   0.8|  -4.808| 0.0|     0.0504|       0.127|0.160956687886367|   0.359|  0.589|134.002|           4.0|  9.0|5.876666666666666E-5|\n",
            "|     Doja Cat|Kiss Me More (fea...|      98.0|       0.762| 0.701|  -3.541| 1.0|     0.0286|       0.235|          1.58E-4|   0.123|  0.742|110.968|           4.0|  5.0|   3.481116666666667|\n",
            "|   Ed Sheeran|          Bad Habits|      97.0|       0.808| 0.897|  -3.712| 0.0|     0.0348|      0.0469|          3.14E-5|   0.364|  0.591|126.026|           4.0|  9.0|       6.41780555E-5|\n",
            "|Doja Cat, SZA|Kiss Me More (fea...|      95.0|       0.762| 0.701|  -3.541| 1.0|     0.0286|       0.235|          1.58E-4|   0.123|  0.742|110.968|           4.0|  9.0|5.801861111666667E-5|\n",
            "|          BTS| Permission to Dance|      95.0|       0.702| 0.741|   -5.33| 1.0|     0.0427|     0.00544|0.160956687886367|   0.337|  0.646|124.925|           4.0|  9.0|       5.21069445E-5|\n",
            "+-------------+--------------------+----------+------------+------+--------+----+-----------+------------+-----------------+--------+-------+-------+--------------+-----+--------------------+\n",
            "\n"
          ]
        }
      ]
    },
    {
      "cell_type": "markdown",
      "source": [
        "# ML MODELS"
      ],
      "metadata": {
        "id": "_yn3HGEjjJQD"
      }
    },
    {
      "cell_type": "code",
      "source": [
        "from pyspark.ml.feature import VectorAssembler\n",
        "from pyspark.ml.classification import LogisticRegression, RandomForestClassifier, DecisionTreeClassifier\n",
        "from pyspark.ml.evaluation import MulticlassClassificationEvaluator\n",
        "from pyspark.ml import Pipeline\n",
        "\n",
        "# Select the relevant columns from the DataFrame\n",
        "selected_df = music_df.select('Popularity', 'danceability', 'energy', 'duration_in_min', 'Genre')\n",
        "\n",
        "# Split the data into training and testing sets\n",
        "train_data, test_data = selected_df.randomSplit([0.7, 0.3], seed=42)\n",
        "\n",
        "# Assemble features vector\n",
        "assembler = VectorAssembler(inputCols=['Popularity', 'danceability', 'energy', 'duration_in_min'], outputCol='features')\n",
        "assembled_train_data = assembler.transform(train_data)\n",
        "assembled_test_data = assembler.transform(test_data)\n",
        "\n",
        "# Logistic Regression classifier\n",
        "lr = LogisticRegression(labelCol='Genre', featuresCol='features', maxIter=10)\n",
        "lr_pipeline = Pipeline(stages=[lr])\n",
        "lr_model = lr_pipeline.fit(assembled_train_data)\n",
        "lr_predictions = lr_model.transform(assembled_test_data)\n",
        "\n",
        "# Random Forest classifier\n",
        "rf = RandomForestClassifier(labelCol='Genre', featuresCol='features', numTrees=10)\n",
        "rf_pipeline = Pipeline(stages=[rf])\n",
        "rf_model = rf_pipeline.fit(assembled_train_data)\n",
        "rf_predictions = rf_model.transform(assembled_test_data)\n",
        "\n",
        "# Decision Tree classifier\n",
        "dt = DecisionTreeClassifier(labelCol='Genre', featuresCol='features')\n",
        "dt_pipeline = Pipeline(stages=[dt])\n",
        "dt_model = dt_pipeline.fit(assembled_train_data)\n",
        "dt_predictions = dt_model.transform(assembled_test_data)\n",
        "\n",
        "# Evaluation\n",
        "evaluator = MulticlassClassificationEvaluator(labelCol='Genre', predictionCol='prediction', metricName='accuracy')\n",
        "\n",
        "lr_accuracy = evaluator.evaluate(lr_predictions)\n",
        "rf_accuracy = evaluator.evaluate(rf_predictions)\n",
        "dt_accuracy = evaluator.evaluate(dt_predictions)\n",
        "\n",
        "print(\"Logistic Regression Accuracy:\", lr_accuracy)\n",
        "print(\"Random Forest Accuracy:\", rf_accuracy)\n",
        "print(\"Decision Tree Accuracy:\", dt_accuracy)"
      ],
      "metadata": {
        "colab": {
          "base_uri": "https://localhost:8080/"
        },
        "id": "XIhkqfgoqXk_",
        "outputId": "30a9dd74-23b7-40d9-cc59-cdef30e2ae65"
      },
      "execution_count": 77,
      "outputs": [
        {
          "output_type": "stream",
          "name": "stdout",
          "text": [
            "Logistic Regression Accuracy: 0.4020828616708173\n",
            "Random Forest Accuracy: 0.4077428118632556\n",
            "Decision Tree Accuracy: 0.39687570749377404\n"
          ]
        }
      ]
    },
    {
      "cell_type": "markdown",
      "source": [
        "## Insights"
      ],
      "metadata": {
        "id": "qaSGufziz-Xq"
      }
    },
    {
      "cell_type": "markdown",
      "source": [
        "Random Forest achieved the highest accuracy (42%) in predicting song genres based on provided features, outperforming Logistic Regression (41%) and Decision Tree (40%) models."
      ],
      "metadata": {
        "id": "OryArdiz0B7u"
      }
    }
  ]
}