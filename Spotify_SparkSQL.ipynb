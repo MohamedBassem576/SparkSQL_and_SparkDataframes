{
  "nbformat": 4,
  "nbformat_minor": 0,
  "metadata": {
    "colab": {
      "provenance": []
    },
    "kernelspec": {
      "name": "python3",
      "display_name": "Python 3"
    },
    "language_info": {
      "name": "python"
    }
  },
  "cells": [
    {
      "cell_type": "code",
      "execution_count": 67,
      "metadata": {
        "id": "jMKwA0cYuW9_"
      },
      "outputs": [],
      "source": [
        "# Installing required packages\n",
        "!pip install pyspark\n",
        "!pip install findspark\n",
        "!pip install pyarrow==1.0.0\n",
        "!pip install pandas\n",
        "!pip install numpy==1.19.5"
      ]
    },
    {
      "cell_type": "code",
      "source": [
        "import findspark\n",
        "findspark.init()\n",
        "import pandas as pd\n",
        "from pyspark import SparkContext, SparkConf\n",
        "from pyspark.sql import SparkSession"
      ],
      "metadata": {
        "id": "mGGrT4Pf0dO0"
      },
      "execution_count": 68,
      "outputs": []
    },
    {
      "cell_type": "code",
      "source": [
        "from pyspark import SparkContext\n",
        "from pyspark.sql import SparkSession\n",
        "\n",
        "# Get the existing SparkContext\n",
        "sc = SparkContext.getOrCreate()\n",
        "\n",
        "# Create a SparkSession using the existing SparkContext\n",
        "spark = SparkSession.builder.appName(\"Python Spark DataFrames basic example\") \\\n",
        "    .config(\"spark.some.config.option\", \"some-value\") \\\n",
        "    .getOrCreate()\n"
      ],
      "metadata": {
        "id": "Mv3uBIob0dnQ"
      },
      "execution_count": 69,
      "outputs": []
    },
    {
      "cell_type": "code",
      "source": [
        "spark"
      ],
      "metadata": {
        "colab": {
          "base_uri": "https://localhost:8080/",
          "height": 219
        },
        "id": "vj3nIEeQ1Ji-",
        "outputId": "da977138-afa9-4917-9e81-619e46da88aa"
      },
      "execution_count": 70,
      "outputs": [
        {
          "output_type": "execute_result",
          "data": {
            "text/plain": [
              "<pyspark.sql.session.SparkSession at 0x7d9a11722e30>"
            ],
            "text/html": [
              "\n",
              "            <div>\n",
              "                <p><b>SparkSession - in-memory</b></p>\n",
              "                \n",
              "        <div>\n",
              "            <p><b>SparkContext</b></p>\n",
              "\n",
              "            <p><a href=\"http://be1726f8b668:4040\">Spark UI</a></p>\n",
              "\n",
              "            <dl>\n",
              "              <dt>Version</dt>\n",
              "                <dd><code>v3.5.1</code></dd>\n",
              "              <dt>Master</dt>\n",
              "                <dd><code>local[*]</code></dd>\n",
              "              <dt>AppName</dt>\n",
              "                <dd><code>pyspark-shell</code></dd>\n",
              "            </dl>\n",
              "        </div>\n",
              "        \n",
              "            </div>\n",
              "        "
            ]
          },
          "metadata": {},
          "execution_count": 70
        }
      ]
    },
    {
      "cell_type": "code",
      "source": [
        "df = pd.read_csv('/content/music_streaming.csv')\n",
        "df.head()"
      ],
      "metadata": {
        "colab": {
          "base_uri": "https://localhost:8080/",
          "height": 399
        },
        "id": "kB-NKA_J1Lzo",
        "outputId": "09b4e65e-9dd7-4638-ffd8-6e27a711ca2b"
      },
      "execution_count": 71,
      "outputs": [
        {
          "output_type": "execute_result",
          "data": {
            "text/plain": [
              "             Artist Name                             Track Name  Popularity  \\\n",
              "0             Bruno Mars  That's What I Like (feat. Gucci Mane)        60.0   \n",
              "1                 Boston                           Hitch a Ride        54.0   \n",
              "2          The Raincoats                     No Side to Fall In        35.0   \n",
              "3                   Deno             Lingo (feat. J.I & Chunkz)        66.0   \n",
              "4  Red Hot Chili Peppers      Nobody Weird Like Me - Remastered        53.0   \n",
              "\n",
              "   danceability  energy   key  loudness  mode  speechiness  acousticness  \\\n",
              "0         0.854   0.564   1.0    -4.964     1       0.0485      0.017100   \n",
              "1         0.382   0.814   3.0    -7.230     1       0.0406      0.001100   \n",
              "2         0.434   0.614   6.0    -8.334     1       0.0525      0.486000   \n",
              "3         0.853   0.597  10.0    -6.528     0       0.0555      0.021200   \n",
              "4         0.167   0.975   2.0    -4.279     1       0.2160      0.000169   \n",
              "\n",
              "   instrumentalness  liveness  valence    tempo  duration_in min/ms  \\\n",
              "0               NaN    0.0849   0.8990  134.071            234596.0   \n",
              "1          0.004010    0.1010   0.5690  116.454            251733.0   \n",
              "2          0.000196    0.3940   0.7870  147.681            109667.0   \n",
              "3               NaN    0.1220   0.5690  107.033            173968.0   \n",
              "4          0.016100    0.1720   0.0918  199.060            229960.0   \n",
              "\n",
              "   time_signature  Genre  \n",
              "0               4      5  \n",
              "1               4     10  \n",
              "2               4      6  \n",
              "3               4      5  \n",
              "4               4     10  "
            ],
            "text/html": [
              "\n",
              "  <div id=\"df-deec49e8-c1ec-44f1-9801-9dcaf2dd7730\" class=\"colab-df-container\">\n",
              "    <div>\n",
              "<style scoped>\n",
              "    .dataframe tbody tr th:only-of-type {\n",
              "        vertical-align: middle;\n",
              "    }\n",
              "\n",
              "    .dataframe tbody tr th {\n",
              "        vertical-align: top;\n",
              "    }\n",
              "\n",
              "    .dataframe thead th {\n",
              "        text-align: right;\n",
              "    }\n",
              "</style>\n",
              "<table border=\"1\" class=\"dataframe\">\n",
              "  <thead>\n",
              "    <tr style=\"text-align: right;\">\n",
              "      <th></th>\n",
              "      <th>Artist Name</th>\n",
              "      <th>Track Name</th>\n",
              "      <th>Popularity</th>\n",
              "      <th>danceability</th>\n",
              "      <th>energy</th>\n",
              "      <th>key</th>\n",
              "      <th>loudness</th>\n",
              "      <th>mode</th>\n",
              "      <th>speechiness</th>\n",
              "      <th>acousticness</th>\n",
              "      <th>instrumentalness</th>\n",
              "      <th>liveness</th>\n",
              "      <th>valence</th>\n",
              "      <th>tempo</th>\n",
              "      <th>duration_in min/ms</th>\n",
              "      <th>time_signature</th>\n",
              "      <th>Genre</th>\n",
              "    </tr>\n",
              "  </thead>\n",
              "  <tbody>\n",
              "    <tr>\n",
              "      <th>0</th>\n",
              "      <td>Bruno Mars</td>\n",
              "      <td>That's What I Like (feat. Gucci Mane)</td>\n",
              "      <td>60.0</td>\n",
              "      <td>0.854</td>\n",
              "      <td>0.564</td>\n",
              "      <td>1.0</td>\n",
              "      <td>-4.964</td>\n",
              "      <td>1</td>\n",
              "      <td>0.0485</td>\n",
              "      <td>0.017100</td>\n",
              "      <td>NaN</td>\n",
              "      <td>0.0849</td>\n",
              "      <td>0.8990</td>\n",
              "      <td>134.071</td>\n",
              "      <td>234596.0</td>\n",
              "      <td>4</td>\n",
              "      <td>5</td>\n",
              "    </tr>\n",
              "    <tr>\n",
              "      <th>1</th>\n",
              "      <td>Boston</td>\n",
              "      <td>Hitch a Ride</td>\n",
              "      <td>54.0</td>\n",
              "      <td>0.382</td>\n",
              "      <td>0.814</td>\n",
              "      <td>3.0</td>\n",
              "      <td>-7.230</td>\n",
              "      <td>1</td>\n",
              "      <td>0.0406</td>\n",
              "      <td>0.001100</td>\n",
              "      <td>0.004010</td>\n",
              "      <td>0.1010</td>\n",
              "      <td>0.5690</td>\n",
              "      <td>116.454</td>\n",
              "      <td>251733.0</td>\n",
              "      <td>4</td>\n",
              "      <td>10</td>\n",
              "    </tr>\n",
              "    <tr>\n",
              "      <th>2</th>\n",
              "      <td>The Raincoats</td>\n",
              "      <td>No Side to Fall In</td>\n",
              "      <td>35.0</td>\n",
              "      <td>0.434</td>\n",
              "      <td>0.614</td>\n",
              "      <td>6.0</td>\n",
              "      <td>-8.334</td>\n",
              "      <td>1</td>\n",
              "      <td>0.0525</td>\n",
              "      <td>0.486000</td>\n",
              "      <td>0.000196</td>\n",
              "      <td>0.3940</td>\n",
              "      <td>0.7870</td>\n",
              "      <td>147.681</td>\n",
              "      <td>109667.0</td>\n",
              "      <td>4</td>\n",
              "      <td>6</td>\n",
              "    </tr>\n",
              "    <tr>\n",
              "      <th>3</th>\n",
              "      <td>Deno</td>\n",
              "      <td>Lingo (feat. J.I &amp; Chunkz)</td>\n",
              "      <td>66.0</td>\n",
              "      <td>0.853</td>\n",
              "      <td>0.597</td>\n",
              "      <td>10.0</td>\n",
              "      <td>-6.528</td>\n",
              "      <td>0</td>\n",
              "      <td>0.0555</td>\n",
              "      <td>0.021200</td>\n",
              "      <td>NaN</td>\n",
              "      <td>0.1220</td>\n",
              "      <td>0.5690</td>\n",
              "      <td>107.033</td>\n",
              "      <td>173968.0</td>\n",
              "      <td>4</td>\n",
              "      <td>5</td>\n",
              "    </tr>\n",
              "    <tr>\n",
              "      <th>4</th>\n",
              "      <td>Red Hot Chili Peppers</td>\n",
              "      <td>Nobody Weird Like Me - Remastered</td>\n",
              "      <td>53.0</td>\n",
              "      <td>0.167</td>\n",
              "      <td>0.975</td>\n",
              "      <td>2.0</td>\n",
              "      <td>-4.279</td>\n",
              "      <td>1</td>\n",
              "      <td>0.2160</td>\n",
              "      <td>0.000169</td>\n",
              "      <td>0.016100</td>\n",
              "      <td>0.1720</td>\n",
              "      <td>0.0918</td>\n",
              "      <td>199.060</td>\n",
              "      <td>229960.0</td>\n",
              "      <td>4</td>\n",
              "      <td>10</td>\n",
              "    </tr>\n",
              "  </tbody>\n",
              "</table>\n",
              "</div>\n",
              "    <div class=\"colab-df-buttons\">\n",
              "\n",
              "  <div class=\"colab-df-container\">\n",
              "    <button class=\"colab-df-convert\" onclick=\"convertToInteractive('df-deec49e8-c1ec-44f1-9801-9dcaf2dd7730')\"\n",
              "            title=\"Convert this dataframe to an interactive table.\"\n",
              "            style=\"display:none;\">\n",
              "\n",
              "  <svg xmlns=\"http://www.w3.org/2000/svg\" height=\"24px\" viewBox=\"0 -960 960 960\">\n",
              "    <path d=\"M120-120v-720h720v720H120Zm60-500h600v-160H180v160Zm220 220h160v-160H400v160Zm0 220h160v-160H400v160ZM180-400h160v-160H180v160Zm440 0h160v-160H620v160ZM180-180h160v-160H180v160Zm440 0h160v-160H620v160Z\"/>\n",
              "  </svg>\n",
              "    </button>\n",
              "\n",
              "  <style>\n",
              "    .colab-df-container {\n",
              "      display:flex;\n",
              "      gap: 12px;\n",
              "    }\n",
              "\n",
              "    .colab-df-convert {\n",
              "      background-color: #E8F0FE;\n",
              "      border: none;\n",
              "      border-radius: 50%;\n",
              "      cursor: pointer;\n",
              "      display: none;\n",
              "      fill: #1967D2;\n",
              "      height: 32px;\n",
              "      padding: 0 0 0 0;\n",
              "      width: 32px;\n",
              "    }\n",
              "\n",
              "    .colab-df-convert:hover {\n",
              "      background-color: #E2EBFA;\n",
              "      box-shadow: 0px 1px 2px rgba(60, 64, 67, 0.3), 0px 1px 3px 1px rgba(60, 64, 67, 0.15);\n",
              "      fill: #174EA6;\n",
              "    }\n",
              "\n",
              "    .colab-df-buttons div {\n",
              "      margin-bottom: 4px;\n",
              "    }\n",
              "\n",
              "    [theme=dark] .colab-df-convert {\n",
              "      background-color: #3B4455;\n",
              "      fill: #D2E3FC;\n",
              "    }\n",
              "\n",
              "    [theme=dark] .colab-df-convert:hover {\n",
              "      background-color: #434B5C;\n",
              "      box-shadow: 0px 1px 3px 1px rgba(0, 0, 0, 0.15);\n",
              "      filter: drop-shadow(0px 1px 2px rgba(0, 0, 0, 0.3));\n",
              "      fill: #FFFFFF;\n",
              "    }\n",
              "  </style>\n",
              "\n",
              "    <script>\n",
              "      const buttonEl =\n",
              "        document.querySelector('#df-deec49e8-c1ec-44f1-9801-9dcaf2dd7730 button.colab-df-convert');\n",
              "      buttonEl.style.display =\n",
              "        google.colab.kernel.accessAllowed ? 'block' : 'none';\n",
              "\n",
              "      async function convertToInteractive(key) {\n",
              "        const element = document.querySelector('#df-deec49e8-c1ec-44f1-9801-9dcaf2dd7730');\n",
              "        const dataTable =\n",
              "          await google.colab.kernel.invokeFunction('convertToInteractive',\n",
              "                                                    [key], {});\n",
              "        if (!dataTable) return;\n",
              "\n",
              "        const docLinkHtml = 'Like what you see? Visit the ' +\n",
              "          '<a target=\"_blank\" href=https://colab.research.google.com/notebooks/data_table.ipynb>data table notebook</a>'\n",
              "          + ' to learn more about interactive tables.';\n",
              "        element.innerHTML = '';\n",
              "        dataTable['output_type'] = 'display_data';\n",
              "        await google.colab.output.renderOutput(dataTable, element);\n",
              "        const docLink = document.createElement('div');\n",
              "        docLink.innerHTML = docLinkHtml;\n",
              "        element.appendChild(docLink);\n",
              "      }\n",
              "    </script>\n",
              "  </div>\n",
              "\n",
              "\n",
              "<div id=\"df-c3493e02-ce39-46d7-a002-05b4bdfed10f\">\n",
              "  <button class=\"colab-df-quickchart\" onclick=\"quickchart('df-c3493e02-ce39-46d7-a002-05b4bdfed10f')\"\n",
              "            title=\"Suggest charts\"\n",
              "            style=\"display:none;\">\n",
              "\n",
              "<svg xmlns=\"http://www.w3.org/2000/svg\" height=\"24px\"viewBox=\"0 0 24 24\"\n",
              "     width=\"24px\">\n",
              "    <g>\n",
              "        <path d=\"M19 3H5c-1.1 0-2 .9-2 2v14c0 1.1.9 2 2 2h14c1.1 0 2-.9 2-2V5c0-1.1-.9-2-2-2zM9 17H7v-7h2v7zm4 0h-2V7h2v10zm4 0h-2v-4h2v4z\"/>\n",
              "    </g>\n",
              "</svg>\n",
              "  </button>\n",
              "\n",
              "<style>\n",
              "  .colab-df-quickchart {\n",
              "      --bg-color: #E8F0FE;\n",
              "      --fill-color: #1967D2;\n",
              "      --hover-bg-color: #E2EBFA;\n",
              "      --hover-fill-color: #174EA6;\n",
              "      --disabled-fill-color: #AAA;\n",
              "      --disabled-bg-color: #DDD;\n",
              "  }\n",
              "\n",
              "  [theme=dark] .colab-df-quickchart {\n",
              "      --bg-color: #3B4455;\n",
              "      --fill-color: #D2E3FC;\n",
              "      --hover-bg-color: #434B5C;\n",
              "      --hover-fill-color: #FFFFFF;\n",
              "      --disabled-bg-color: #3B4455;\n",
              "      --disabled-fill-color: #666;\n",
              "  }\n",
              "\n",
              "  .colab-df-quickchart {\n",
              "    background-color: var(--bg-color);\n",
              "    border: none;\n",
              "    border-radius: 50%;\n",
              "    cursor: pointer;\n",
              "    display: none;\n",
              "    fill: var(--fill-color);\n",
              "    height: 32px;\n",
              "    padding: 0;\n",
              "    width: 32px;\n",
              "  }\n",
              "\n",
              "  .colab-df-quickchart:hover {\n",
              "    background-color: var(--hover-bg-color);\n",
              "    box-shadow: 0 1px 2px rgba(60, 64, 67, 0.3), 0 1px 3px 1px rgba(60, 64, 67, 0.15);\n",
              "    fill: var(--button-hover-fill-color);\n",
              "  }\n",
              "\n",
              "  .colab-df-quickchart-complete:disabled,\n",
              "  .colab-df-quickchart-complete:disabled:hover {\n",
              "    background-color: var(--disabled-bg-color);\n",
              "    fill: var(--disabled-fill-color);\n",
              "    box-shadow: none;\n",
              "  }\n",
              "\n",
              "  .colab-df-spinner {\n",
              "    border: 2px solid var(--fill-color);\n",
              "    border-color: transparent;\n",
              "    border-bottom-color: var(--fill-color);\n",
              "    animation:\n",
              "      spin 1s steps(1) infinite;\n",
              "  }\n",
              "\n",
              "  @keyframes spin {\n",
              "    0% {\n",
              "      border-color: transparent;\n",
              "      border-bottom-color: var(--fill-color);\n",
              "      border-left-color: var(--fill-color);\n",
              "    }\n",
              "    20% {\n",
              "      border-color: transparent;\n",
              "      border-left-color: var(--fill-color);\n",
              "      border-top-color: var(--fill-color);\n",
              "    }\n",
              "    30% {\n",
              "      border-color: transparent;\n",
              "      border-left-color: var(--fill-color);\n",
              "      border-top-color: var(--fill-color);\n",
              "      border-right-color: var(--fill-color);\n",
              "    }\n",
              "    40% {\n",
              "      border-color: transparent;\n",
              "      border-right-color: var(--fill-color);\n",
              "      border-top-color: var(--fill-color);\n",
              "    }\n",
              "    60% {\n",
              "      border-color: transparent;\n",
              "      border-right-color: var(--fill-color);\n",
              "    }\n",
              "    80% {\n",
              "      border-color: transparent;\n",
              "      border-right-color: var(--fill-color);\n",
              "      border-bottom-color: var(--fill-color);\n",
              "    }\n",
              "    90% {\n",
              "      border-color: transparent;\n",
              "      border-bottom-color: var(--fill-color);\n",
              "    }\n",
              "  }\n",
              "</style>\n",
              "\n",
              "  <script>\n",
              "    async function quickchart(key) {\n",
              "      const quickchartButtonEl =\n",
              "        document.querySelector('#' + key + ' button');\n",
              "      quickchartButtonEl.disabled = true;  // To prevent multiple clicks.\n",
              "      quickchartButtonEl.classList.add('colab-df-spinner');\n",
              "      try {\n",
              "        const charts = await google.colab.kernel.invokeFunction(\n",
              "            'suggestCharts', [key], {});\n",
              "      } catch (error) {\n",
              "        console.error('Error during call to suggestCharts:', error);\n",
              "      }\n",
              "      quickchartButtonEl.classList.remove('colab-df-spinner');\n",
              "      quickchartButtonEl.classList.add('colab-df-quickchart-complete');\n",
              "    }\n",
              "    (() => {\n",
              "      let quickchartButtonEl =\n",
              "        document.querySelector('#df-c3493e02-ce39-46d7-a002-05b4bdfed10f button');\n",
              "      quickchartButtonEl.style.display =\n",
              "        google.colab.kernel.accessAllowed ? 'block' : 'none';\n",
              "    })();\n",
              "  </script>\n",
              "</div>\n",
              "\n",
              "    </div>\n",
              "  </div>\n"
            ],
            "application/vnd.google.colaboratory.intrinsic+json": {
              "type": "dataframe",
              "variable_name": "df",
              "summary": "{\n  \"name\": \"df\",\n  \"rows\": 15517,\n  \"fields\": [\n    {\n      \"column\": \"Artist Name\",\n      \"properties\": {\n        \"dtype\": \"string\",\n        \"num_unique_values\": 8287,\n        \"samples\": [\n          \"Back On Earth\",\n          \"Kings of Convenience\",\n          \"Seffy Efrati\"\n        ],\n        \"semantic_type\": \"\",\n        \"description\": \"\"\n      }\n    },\n    {\n      \"column\": \"Track Name\",\n      \"properties\": {\n        \"dtype\": \"string\",\n        \"num_unique_values\": 13021,\n        \"samples\": [\n          \"Perdido\",\n          \"If You Have Ghosts\",\n          \"Cause You Got Me\"\n        ],\n        \"semantic_type\": \"\",\n        \"description\": \"\"\n      }\n    },\n    {\n      \"column\": \"Popularity\",\n      \"properties\": {\n        \"dtype\": \"number\",\n        \"std\": 17.400842652890997,\n        \"min\": 1.0,\n        \"max\": 100.0,\n        \"num_unique_values\": 100,\n        \"samples\": [\n          14.0,\n          7.0,\n          67.0\n        ],\n        \"semantic_type\": \"\",\n        \"description\": \"\"\n      }\n    },\n    {\n      \"column\": \"danceability\",\n      \"properties\": {\n        \"dtype\": \"number\",\n        \"std\": 0.16683801168616924,\n        \"min\": 0.0596,\n        \"max\": 0.989,\n        \"num_unique_values\": 896,\n        \"samples\": [\n          0.302,\n          0.176,\n          0.186\n        ],\n        \"semantic_type\": \"\",\n        \"description\": \"\"\n      }\n    },\n    {\n      \"column\": \"energy\",\n      \"properties\": {\n        \"dtype\": \"number\",\n        \"std\": 0.2354020779679106,\n        \"min\": 0.00121,\n        \"max\": 1.0,\n        \"num_unique_values\": 1161,\n        \"samples\": [\n          0.328,\n          0.272,\n          0.737\n        ],\n        \"semantic_type\": \"\",\n        \"description\": \"\"\n      }\n    },\n    {\n      \"column\": \"key\",\n      \"properties\": {\n        \"dtype\": \"number\",\n        \"std\": 3.1963325070590978,\n        \"min\": 1.0,\n        \"max\": 11.0,\n        \"num_unique_values\": 11,\n        \"samples\": [\n          5.0,\n          1.0,\n          8.0\n        ],\n        \"semantic_type\": \"\",\n        \"description\": \"\"\n      }\n    },\n    {\n      \"column\": \"loudness\",\n      \"properties\": {\n        \"dtype\": \"number\",\n        \"std\": 4.018688176310801,\n        \"min\": -39.952,\n        \"max\": 1.355,\n        \"num_unique_values\": 8231,\n        \"samples\": [\n          -3.806,\n          -6.296,\n          -10.809\n        ],\n        \"semantic_type\": \"\",\n        \"description\": \"\"\n      }\n    },\n    {\n      \"column\": \"mode\",\n      \"properties\": {\n        \"dtype\": \"number\",\n        \"std\": 0,\n        \"min\": 0,\n        \"max\": 1,\n        \"num_unique_values\": 2,\n        \"samples\": [\n          0,\n          1\n        ],\n        \"semantic_type\": \"\",\n        \"description\": \"\"\n      }\n    },\n    {\n      \"column\": \"speechiness\",\n      \"properties\": {\n        \"dtype\": \"number\",\n        \"std\": 0.08497689697124682,\n        \"min\": 0.0225,\n        \"max\": 0.955,\n        \"num_unique_values\": 1186,\n        \"samples\": [\n          0.0556,\n          0.0956\n        ],\n        \"semantic_type\": \"\",\n        \"description\": \"\"\n      }\n    },\n    {\n      \"column\": \"acousticness\",\n      \"properties\": {\n        \"dtype\": \"number\",\n        \"std\": 0.3096053491722663,\n        \"min\": 0.0,\n        \"max\": 0.996,\n        \"num_unique_values\": 3834,\n        \"samples\": [\n          0.0764,\n          0.0893\n        ],\n        \"semantic_type\": \"\",\n        \"description\": \"\"\n      }\n    },\n    {\n      \"column\": \"instrumentalness\",\n      \"properties\": {\n        \"dtype\": \"number\",\n        \"std\": 0.3029345974963815,\n        \"min\": 1e-06,\n        \"max\": 0.996,\n        \"num_unique_values\": 4051,\n        \"samples\": [\n          0.0108,\n          0.00328\n        ],\n        \"semantic_type\": \"\",\n        \"description\": \"\"\n      }\n    },\n    {\n      \"column\": \"liveness\",\n      \"properties\": {\n        \"dtype\": \"number\",\n        \"std\": 0.16021205426300064,\n        \"min\": 0.0119,\n        \"max\": 1.0,\n        \"num_unique_values\": 1428,\n        \"samples\": [\n          0.148,\n          0.524\n        ],\n        \"semantic_type\": \"\",\n        \"description\": \"\"\n      }\n    },\n    {\n      \"column\": \"valence\",\n      \"properties\": {\n        \"dtype\": \"number\",\n        \"std\": 0.2402278139354795,\n        \"min\": 0.0215,\n        \"max\": 0.986,\n        \"num_unique_values\": 1281,\n        \"samples\": [\n          0.0819,\n          0.162\n        ],\n        \"semantic_type\": \"\",\n        \"description\": \"\"\n      }\n    },\n    {\n      \"column\": \"tempo\",\n      \"properties\": {\n        \"dtype\": \"number\",\n        \"std\": 29.68642874753729,\n        \"min\": 30.557,\n        \"max\": 217.416,\n        \"num_unique_values\": 11928,\n        \"samples\": [\n          163.809,\n          110.373\n        ],\n        \"semantic_type\": \"\",\n        \"description\": \"\"\n      }\n    },\n    {\n      \"column\": \"duration_in min/ms\",\n      \"properties\": {\n        \"dtype\": \"number\",\n        \"std\": 114832.60115578267,\n        \"min\": 0.50165,\n        \"max\": 1477187.0,\n        \"num_unique_values\": 12400,\n        \"samples\": [\n          4.35616667,\n          3.254\n        ],\n        \"semantic_type\": \"\",\n        \"description\": \"\"\n      }\n    },\n    {\n      \"column\": \"time_signature\",\n      \"properties\": {\n        \"dtype\": \"number\",\n        \"std\": 0,\n        \"min\": 1,\n        \"max\": 5,\n        \"num_unique_values\": 4,\n        \"samples\": [\n          3,\n          5\n        ],\n        \"semantic_type\": \"\",\n        \"description\": \"\"\n      }\n    },\n    {\n      \"column\": \"Genre\",\n      \"properties\": {\n        \"dtype\": \"number\",\n        \"std\": 3,\n        \"min\": 0,\n        \"max\": 10,\n        \"num_unique_values\": 11,\n        \"samples\": [\n          8,\n          5\n        ],\n        \"semantic_type\": \"\",\n        \"description\": \"\"\n      }\n    }\n  ]\n}"
            }
          },
          "metadata": {},
          "execution_count": 71
        }
      ]
    },
    {
      "cell_type": "code",
      "source": [
        "df.info()"
      ],
      "metadata": {
        "id": "x6KowtIt1YKA",
        "colab": {
          "base_uri": "https://localhost:8080/"
        },
        "outputId": "de8f5939-4e13-4d69-b941-4869e3d794ac"
      },
      "execution_count": 72,
      "outputs": [
        {
          "output_type": "stream",
          "name": "stdout",
          "text": [
            "<class 'pandas.core.frame.DataFrame'>\n",
            "RangeIndex: 15517 entries, 0 to 15516\n",
            "Data columns (total 17 columns):\n",
            " #   Column              Non-Null Count  Dtype  \n",
            "---  ------              --------------  -----  \n",
            " 0   Artist Name         15517 non-null  object \n",
            " 1   Track Name          15517 non-null  object \n",
            " 2   Popularity          15123 non-null  float64\n",
            " 3   danceability        15517 non-null  float64\n",
            " 4   energy              15517 non-null  float64\n",
            " 5   key                 13774 non-null  float64\n",
            " 6   loudness            15517 non-null  float64\n",
            " 7   mode                15517 non-null  int64  \n",
            " 8   speechiness         15517 non-null  float64\n",
            " 9   acousticness        15517 non-null  float64\n",
            " 10  instrumentalness    11930 non-null  float64\n",
            " 11  liveness            15517 non-null  float64\n",
            " 12  valence             15517 non-null  float64\n",
            " 13  tempo               15517 non-null  float64\n",
            " 14  duration_in min/ms  15517 non-null  float64\n",
            " 15  time_signature      15517 non-null  int64  \n",
            " 16  Genre               15517 non-null  int64  \n",
            "dtypes: float64(12), int64(3), object(2)\n",
            "memory usage: 2.0+ MB\n"
          ]
        }
      ]
    },
    {
      "cell_type": "markdown",
      "source": [
        "# Data Processing"
      ],
      "metadata": {
        "id": "q45HzJiN13Cl"
      }
    },
    {
      "cell_type": "markdown",
      "source": [
        "### Missing Values"
      ],
      "metadata": {
        "id": "pvxs0i5n5T_T"
      }
    },
    {
      "cell_type": "code",
      "source": [
        "# 2. missing values in each column\n",
        "df.isnull().sum()"
      ],
      "metadata": {
        "id": "YOFhNdvE2LJY",
        "colab": {
          "base_uri": "https://localhost:8080/"
        },
        "outputId": "3819fe6d-ee73-4da7-94ac-bec027596cc0"
      },
      "execution_count": 73,
      "outputs": [
        {
          "output_type": "execute_result",
          "data": {
            "text/plain": [
              "Artist Name              0\n",
              "Track Name               0\n",
              "Popularity             394\n",
              "danceability             0\n",
              "energy                   0\n",
              "key                   1743\n",
              "loudness                 0\n",
              "mode                     0\n",
              "speechiness              0\n",
              "acousticness             0\n",
              "instrumentalness      3587\n",
              "liveness                 0\n",
              "valence                  0\n",
              "tempo                    0\n",
              "duration_in min/ms       0\n",
              "time_signature           0\n",
              "Genre                    0\n",
              "dtype: int64"
            ]
          },
          "metadata": {},
          "execution_count": 73
        }
      ]
    },
    {
      "cell_type": "code",
      "source": [
        "#drop rows where Popularity is missing as there are 352 only missing\n",
        "df = df.dropna(subset=['Popularity'])\n",
        "df['Popularity'].isnull().sum()"
      ],
      "metadata": {
        "id": "s9dZaREh2Wzw",
        "colab": {
          "base_uri": "https://localhost:8080/"
        },
        "outputId": "a9a288ad-6ae2-44dd-b627-e2ece0e600b2"
      },
      "execution_count": 74,
      "outputs": [
        {
          "output_type": "execute_result",
          "data": {
            "text/plain": [
              "0"
            ]
          },
          "metadata": {},
          "execution_count": 74
        }
      ]
    },
    {
      "cell_type": "code",
      "source": [
        "#drop key column as it is not needed in our analysis\n",
        "df = df.drop(columns=['key'])\n",
        "df.head()"
      ],
      "metadata": {
        "id": "HKWpZg5f2aYw",
        "colab": {
          "base_uri": "https://localhost:8080/",
          "height": 399
        },
        "outputId": "108c8310-b26c-4c2e-a34d-07390861ade3"
      },
      "execution_count": 75,
      "outputs": [
        {
          "output_type": "execute_result",
          "data": {
            "text/plain": [
              "             Artist Name                             Track Name  Popularity  \\\n",
              "0             Bruno Mars  That's What I Like (feat. Gucci Mane)        60.0   \n",
              "1                 Boston                           Hitch a Ride        54.0   \n",
              "2          The Raincoats                     No Side to Fall In        35.0   \n",
              "3                   Deno             Lingo (feat. J.I & Chunkz)        66.0   \n",
              "4  Red Hot Chili Peppers      Nobody Weird Like Me - Remastered        53.0   \n",
              "\n",
              "   danceability  energy  loudness  mode  speechiness  acousticness  \\\n",
              "0         0.854   0.564    -4.964     1       0.0485      0.017100   \n",
              "1         0.382   0.814    -7.230     1       0.0406      0.001100   \n",
              "2         0.434   0.614    -8.334     1       0.0525      0.486000   \n",
              "3         0.853   0.597    -6.528     0       0.0555      0.021200   \n",
              "4         0.167   0.975    -4.279     1       0.2160      0.000169   \n",
              "\n",
              "   instrumentalness  liveness  valence    tempo  duration_in min/ms  \\\n",
              "0               NaN    0.0849   0.8990  134.071            234596.0   \n",
              "1          0.004010    0.1010   0.5690  116.454            251733.0   \n",
              "2          0.000196    0.3940   0.7870  147.681            109667.0   \n",
              "3               NaN    0.1220   0.5690  107.033            173968.0   \n",
              "4          0.016100    0.1720   0.0918  199.060            229960.0   \n",
              "\n",
              "   time_signature  Genre  \n",
              "0               4      5  \n",
              "1               4     10  \n",
              "2               4      6  \n",
              "3               4      5  \n",
              "4               4     10  "
            ],
            "text/html": [
              "\n",
              "  <div id=\"df-7e6b32ec-01ce-49be-8567-f7f2b702bc05\" class=\"colab-df-container\">\n",
              "    <div>\n",
              "<style scoped>\n",
              "    .dataframe tbody tr th:only-of-type {\n",
              "        vertical-align: middle;\n",
              "    }\n",
              "\n",
              "    .dataframe tbody tr th {\n",
              "        vertical-align: top;\n",
              "    }\n",
              "\n",
              "    .dataframe thead th {\n",
              "        text-align: right;\n",
              "    }\n",
              "</style>\n",
              "<table border=\"1\" class=\"dataframe\">\n",
              "  <thead>\n",
              "    <tr style=\"text-align: right;\">\n",
              "      <th></th>\n",
              "      <th>Artist Name</th>\n",
              "      <th>Track Name</th>\n",
              "      <th>Popularity</th>\n",
              "      <th>danceability</th>\n",
              "      <th>energy</th>\n",
              "      <th>loudness</th>\n",
              "      <th>mode</th>\n",
              "      <th>speechiness</th>\n",
              "      <th>acousticness</th>\n",
              "      <th>instrumentalness</th>\n",
              "      <th>liveness</th>\n",
              "      <th>valence</th>\n",
              "      <th>tempo</th>\n",
              "      <th>duration_in min/ms</th>\n",
              "      <th>time_signature</th>\n",
              "      <th>Genre</th>\n",
              "    </tr>\n",
              "  </thead>\n",
              "  <tbody>\n",
              "    <tr>\n",
              "      <th>0</th>\n",
              "      <td>Bruno Mars</td>\n",
              "      <td>That's What I Like (feat. Gucci Mane)</td>\n",
              "      <td>60.0</td>\n",
              "      <td>0.854</td>\n",
              "      <td>0.564</td>\n",
              "      <td>-4.964</td>\n",
              "      <td>1</td>\n",
              "      <td>0.0485</td>\n",
              "      <td>0.017100</td>\n",
              "      <td>NaN</td>\n",
              "      <td>0.0849</td>\n",
              "      <td>0.8990</td>\n",
              "      <td>134.071</td>\n",
              "      <td>234596.0</td>\n",
              "      <td>4</td>\n",
              "      <td>5</td>\n",
              "    </tr>\n",
              "    <tr>\n",
              "      <th>1</th>\n",
              "      <td>Boston</td>\n",
              "      <td>Hitch a Ride</td>\n",
              "      <td>54.0</td>\n",
              "      <td>0.382</td>\n",
              "      <td>0.814</td>\n",
              "      <td>-7.230</td>\n",
              "      <td>1</td>\n",
              "      <td>0.0406</td>\n",
              "      <td>0.001100</td>\n",
              "      <td>0.004010</td>\n",
              "      <td>0.1010</td>\n",
              "      <td>0.5690</td>\n",
              "      <td>116.454</td>\n",
              "      <td>251733.0</td>\n",
              "      <td>4</td>\n",
              "      <td>10</td>\n",
              "    </tr>\n",
              "    <tr>\n",
              "      <th>2</th>\n",
              "      <td>The Raincoats</td>\n",
              "      <td>No Side to Fall In</td>\n",
              "      <td>35.0</td>\n",
              "      <td>0.434</td>\n",
              "      <td>0.614</td>\n",
              "      <td>-8.334</td>\n",
              "      <td>1</td>\n",
              "      <td>0.0525</td>\n",
              "      <td>0.486000</td>\n",
              "      <td>0.000196</td>\n",
              "      <td>0.3940</td>\n",
              "      <td>0.7870</td>\n",
              "      <td>147.681</td>\n",
              "      <td>109667.0</td>\n",
              "      <td>4</td>\n",
              "      <td>6</td>\n",
              "    </tr>\n",
              "    <tr>\n",
              "      <th>3</th>\n",
              "      <td>Deno</td>\n",
              "      <td>Lingo (feat. J.I &amp; Chunkz)</td>\n",
              "      <td>66.0</td>\n",
              "      <td>0.853</td>\n",
              "      <td>0.597</td>\n",
              "      <td>-6.528</td>\n",
              "      <td>0</td>\n",
              "      <td>0.0555</td>\n",
              "      <td>0.021200</td>\n",
              "      <td>NaN</td>\n",
              "      <td>0.1220</td>\n",
              "      <td>0.5690</td>\n",
              "      <td>107.033</td>\n",
              "      <td>173968.0</td>\n",
              "      <td>4</td>\n",
              "      <td>5</td>\n",
              "    </tr>\n",
              "    <tr>\n",
              "      <th>4</th>\n",
              "      <td>Red Hot Chili Peppers</td>\n",
              "      <td>Nobody Weird Like Me - Remastered</td>\n",
              "      <td>53.0</td>\n",
              "      <td>0.167</td>\n",
              "      <td>0.975</td>\n",
              "      <td>-4.279</td>\n",
              "      <td>1</td>\n",
              "      <td>0.2160</td>\n",
              "      <td>0.000169</td>\n",
              "      <td>0.016100</td>\n",
              "      <td>0.1720</td>\n",
              "      <td>0.0918</td>\n",
              "      <td>199.060</td>\n",
              "      <td>229960.0</td>\n",
              "      <td>4</td>\n",
              "      <td>10</td>\n",
              "    </tr>\n",
              "  </tbody>\n",
              "</table>\n",
              "</div>\n",
              "    <div class=\"colab-df-buttons\">\n",
              "\n",
              "  <div class=\"colab-df-container\">\n",
              "    <button class=\"colab-df-convert\" onclick=\"convertToInteractive('df-7e6b32ec-01ce-49be-8567-f7f2b702bc05')\"\n",
              "            title=\"Convert this dataframe to an interactive table.\"\n",
              "            style=\"display:none;\">\n",
              "\n",
              "  <svg xmlns=\"http://www.w3.org/2000/svg\" height=\"24px\" viewBox=\"0 -960 960 960\">\n",
              "    <path d=\"M120-120v-720h720v720H120Zm60-500h600v-160H180v160Zm220 220h160v-160H400v160Zm0 220h160v-160H400v160ZM180-400h160v-160H180v160Zm440 0h160v-160H620v160ZM180-180h160v-160H180v160Zm440 0h160v-160H620v160Z\"/>\n",
              "  </svg>\n",
              "    </button>\n",
              "\n",
              "  <style>\n",
              "    .colab-df-container {\n",
              "      display:flex;\n",
              "      gap: 12px;\n",
              "    }\n",
              "\n",
              "    .colab-df-convert {\n",
              "      background-color: #E8F0FE;\n",
              "      border: none;\n",
              "      border-radius: 50%;\n",
              "      cursor: pointer;\n",
              "      display: none;\n",
              "      fill: #1967D2;\n",
              "      height: 32px;\n",
              "      padding: 0 0 0 0;\n",
              "      width: 32px;\n",
              "    }\n",
              "\n",
              "    .colab-df-convert:hover {\n",
              "      background-color: #E2EBFA;\n",
              "      box-shadow: 0px 1px 2px rgba(60, 64, 67, 0.3), 0px 1px 3px 1px rgba(60, 64, 67, 0.15);\n",
              "      fill: #174EA6;\n",
              "    }\n",
              "\n",
              "    .colab-df-buttons div {\n",
              "      margin-bottom: 4px;\n",
              "    }\n",
              "\n",
              "    [theme=dark] .colab-df-convert {\n",
              "      background-color: #3B4455;\n",
              "      fill: #D2E3FC;\n",
              "    }\n",
              "\n",
              "    [theme=dark] .colab-df-convert:hover {\n",
              "      background-color: #434B5C;\n",
              "      box-shadow: 0px 1px 3px 1px rgba(0, 0, 0, 0.15);\n",
              "      filter: drop-shadow(0px 1px 2px rgba(0, 0, 0, 0.3));\n",
              "      fill: #FFFFFF;\n",
              "    }\n",
              "  </style>\n",
              "\n",
              "    <script>\n",
              "      const buttonEl =\n",
              "        document.querySelector('#df-7e6b32ec-01ce-49be-8567-f7f2b702bc05 button.colab-df-convert');\n",
              "      buttonEl.style.display =\n",
              "        google.colab.kernel.accessAllowed ? 'block' : 'none';\n",
              "\n",
              "      async function convertToInteractive(key) {\n",
              "        const element = document.querySelector('#df-7e6b32ec-01ce-49be-8567-f7f2b702bc05');\n",
              "        const dataTable =\n",
              "          await google.colab.kernel.invokeFunction('convertToInteractive',\n",
              "                                                    [key], {});\n",
              "        if (!dataTable) return;\n",
              "\n",
              "        const docLinkHtml = 'Like what you see? Visit the ' +\n",
              "          '<a target=\"_blank\" href=https://colab.research.google.com/notebooks/data_table.ipynb>data table notebook</a>'\n",
              "          + ' to learn more about interactive tables.';\n",
              "        element.innerHTML = '';\n",
              "        dataTable['output_type'] = 'display_data';\n",
              "        await google.colab.output.renderOutput(dataTable, element);\n",
              "        const docLink = document.createElement('div');\n",
              "        docLink.innerHTML = docLinkHtml;\n",
              "        element.appendChild(docLink);\n",
              "      }\n",
              "    </script>\n",
              "  </div>\n",
              "\n",
              "\n",
              "<div id=\"df-41966385-d0cd-4e51-8649-41769c8e7967\">\n",
              "  <button class=\"colab-df-quickchart\" onclick=\"quickchart('df-41966385-d0cd-4e51-8649-41769c8e7967')\"\n",
              "            title=\"Suggest charts\"\n",
              "            style=\"display:none;\">\n",
              "\n",
              "<svg xmlns=\"http://www.w3.org/2000/svg\" height=\"24px\"viewBox=\"0 0 24 24\"\n",
              "     width=\"24px\">\n",
              "    <g>\n",
              "        <path d=\"M19 3H5c-1.1 0-2 .9-2 2v14c0 1.1.9 2 2 2h14c1.1 0 2-.9 2-2V5c0-1.1-.9-2-2-2zM9 17H7v-7h2v7zm4 0h-2V7h2v10zm4 0h-2v-4h2v4z\"/>\n",
              "    </g>\n",
              "</svg>\n",
              "  </button>\n",
              "\n",
              "<style>\n",
              "  .colab-df-quickchart {\n",
              "      --bg-color: #E8F0FE;\n",
              "      --fill-color: #1967D2;\n",
              "      --hover-bg-color: #E2EBFA;\n",
              "      --hover-fill-color: #174EA6;\n",
              "      --disabled-fill-color: #AAA;\n",
              "      --disabled-bg-color: #DDD;\n",
              "  }\n",
              "\n",
              "  [theme=dark] .colab-df-quickchart {\n",
              "      --bg-color: #3B4455;\n",
              "      --fill-color: #D2E3FC;\n",
              "      --hover-bg-color: #434B5C;\n",
              "      --hover-fill-color: #FFFFFF;\n",
              "      --disabled-bg-color: #3B4455;\n",
              "      --disabled-fill-color: #666;\n",
              "  }\n",
              "\n",
              "  .colab-df-quickchart {\n",
              "    background-color: var(--bg-color);\n",
              "    border: none;\n",
              "    border-radius: 50%;\n",
              "    cursor: pointer;\n",
              "    display: none;\n",
              "    fill: var(--fill-color);\n",
              "    height: 32px;\n",
              "    padding: 0;\n",
              "    width: 32px;\n",
              "  }\n",
              "\n",
              "  .colab-df-quickchart:hover {\n",
              "    background-color: var(--hover-bg-color);\n",
              "    box-shadow: 0 1px 2px rgba(60, 64, 67, 0.3), 0 1px 3px 1px rgba(60, 64, 67, 0.15);\n",
              "    fill: var(--button-hover-fill-color);\n",
              "  }\n",
              "\n",
              "  .colab-df-quickchart-complete:disabled,\n",
              "  .colab-df-quickchart-complete:disabled:hover {\n",
              "    background-color: var(--disabled-bg-color);\n",
              "    fill: var(--disabled-fill-color);\n",
              "    box-shadow: none;\n",
              "  }\n",
              "\n",
              "  .colab-df-spinner {\n",
              "    border: 2px solid var(--fill-color);\n",
              "    border-color: transparent;\n",
              "    border-bottom-color: var(--fill-color);\n",
              "    animation:\n",
              "      spin 1s steps(1) infinite;\n",
              "  }\n",
              "\n",
              "  @keyframes spin {\n",
              "    0% {\n",
              "      border-color: transparent;\n",
              "      border-bottom-color: var(--fill-color);\n",
              "      border-left-color: var(--fill-color);\n",
              "    }\n",
              "    20% {\n",
              "      border-color: transparent;\n",
              "      border-left-color: var(--fill-color);\n",
              "      border-top-color: var(--fill-color);\n",
              "    }\n",
              "    30% {\n",
              "      border-color: transparent;\n",
              "      border-left-color: var(--fill-color);\n",
              "      border-top-color: var(--fill-color);\n",
              "      border-right-color: var(--fill-color);\n",
              "    }\n",
              "    40% {\n",
              "      border-color: transparent;\n",
              "      border-right-color: var(--fill-color);\n",
              "      border-top-color: var(--fill-color);\n",
              "    }\n",
              "    60% {\n",
              "      border-color: transparent;\n",
              "      border-right-color: var(--fill-color);\n",
              "    }\n",
              "    80% {\n",
              "      border-color: transparent;\n",
              "      border-right-color: var(--fill-color);\n",
              "      border-bottom-color: var(--fill-color);\n",
              "    }\n",
              "    90% {\n",
              "      border-color: transparent;\n",
              "      border-bottom-color: var(--fill-color);\n",
              "    }\n",
              "  }\n",
              "</style>\n",
              "\n",
              "  <script>\n",
              "    async function quickchart(key) {\n",
              "      const quickchartButtonEl =\n",
              "        document.querySelector('#' + key + ' button');\n",
              "      quickchartButtonEl.disabled = true;  // To prevent multiple clicks.\n",
              "      quickchartButtonEl.classList.add('colab-df-spinner');\n",
              "      try {\n",
              "        const charts = await google.colab.kernel.invokeFunction(\n",
              "            'suggestCharts', [key], {});\n",
              "      } catch (error) {\n",
              "        console.error('Error during call to suggestCharts:', error);\n",
              "      }\n",
              "      quickchartButtonEl.classList.remove('colab-df-spinner');\n",
              "      quickchartButtonEl.classList.add('colab-df-quickchart-complete');\n",
              "    }\n",
              "    (() => {\n",
              "      let quickchartButtonEl =\n",
              "        document.querySelector('#df-41966385-d0cd-4e51-8649-41769c8e7967 button');\n",
              "      quickchartButtonEl.style.display =\n",
              "        google.colab.kernel.accessAllowed ? 'block' : 'none';\n",
              "    })();\n",
              "  </script>\n",
              "</div>\n",
              "\n",
              "    </div>\n",
              "  </div>\n"
            ],
            "application/vnd.google.colaboratory.intrinsic+json": {
              "type": "dataframe",
              "variable_name": "df",
              "summary": "{\n  \"name\": \"df\",\n  \"rows\": 15123,\n  \"fields\": [\n    {\n      \"column\": \"Artist Name\",\n      \"properties\": {\n        \"dtype\": \"string\",\n        \"num_unique_values\": 8143,\n        \"samples\": [\n          \"Hayley Williams\",\n          \"Yungeen Ace\",\n          \"Xavier Rudd\"\n        ],\n        \"semantic_type\": \"\",\n        \"description\": \"\"\n      }\n    },\n    {\n      \"column\": \"Track Name\",\n      \"properties\": {\n        \"dtype\": \"string\",\n        \"num_unique_values\": 12712,\n        \"samples\": [\n          \"There is Nothing New Under the Sun\",\n          \"blood (feat. KennyHoopla & JUDGE)\",\n          \"Bad Moon Rising\"\n        ],\n        \"semantic_type\": \"\",\n        \"description\": \"\"\n      }\n    },\n    {\n      \"column\": \"Popularity\",\n      \"properties\": {\n        \"dtype\": \"number\",\n        \"std\": 17.400842652890997,\n        \"min\": 1.0,\n        \"max\": 100.0,\n        \"num_unique_values\": 100,\n        \"samples\": [\n          14.0,\n          7.0,\n          67.0\n        ],\n        \"semantic_type\": \"\",\n        \"description\": \"\"\n      }\n    },\n    {\n      \"column\": \"danceability\",\n      \"properties\": {\n        \"dtype\": \"number\",\n        \"std\": 0.16720452640310685,\n        \"min\": 0.0599,\n        \"max\": 0.989,\n        \"num_unique_values\": 894,\n        \"samples\": [\n          0.249,\n          0.699,\n          0.31\n        ],\n        \"semantic_type\": \"\",\n        \"description\": \"\"\n      }\n    },\n    {\n      \"column\": \"energy\",\n      \"properties\": {\n        \"dtype\": \"number\",\n        \"std\": 0.23442259582673308,\n        \"min\": 0.00124,\n        \"max\": 1.0,\n        \"num_unique_values\": 1150,\n        \"samples\": [\n          0.565,\n          0.142,\n          0.125\n        ],\n        \"semantic_type\": \"\",\n        \"description\": \"\"\n      }\n    },\n    {\n      \"column\": \"loudness\",\n      \"properties\": {\n        \"dtype\": \"number\",\n        \"std\": 3.984845874673432,\n        \"min\": -36.214,\n        \"max\": 1.355,\n        \"num_unique_values\": 8094,\n        \"samples\": [\n          -10.971,\n          -3.315,\n          -4.661\n        ],\n        \"semantic_type\": \"\",\n        \"description\": \"\"\n      }\n    },\n    {\n      \"column\": \"mode\",\n      \"properties\": {\n        \"dtype\": \"number\",\n        \"std\": 0,\n        \"min\": 0,\n        \"max\": 1,\n        \"num_unique_values\": 2,\n        \"samples\": [\n          0,\n          1\n        ],\n        \"semantic_type\": \"\",\n        \"description\": \"\"\n      }\n    },\n    {\n      \"column\": \"speechiness\",\n      \"properties\": {\n        \"dtype\": \"number\",\n        \"std\": 0.085109816944917,\n        \"min\": 0.0225,\n        \"max\": 0.955,\n        \"num_unique_values\": 1184,\n        \"samples\": [\n          0.0455,\n          0.331\n        ],\n        \"semantic_type\": \"\",\n        \"description\": \"\"\n      }\n    },\n    {\n      \"column\": \"acousticness\",\n      \"properties\": {\n        \"dtype\": \"number\",\n        \"std\": 0.3083320185953826,\n        \"min\": 0.0,\n        \"max\": 0.996,\n        \"num_unique_values\": 3813,\n        \"samples\": [\n          0.666,\n          0.0255\n        ],\n        \"semantic_type\": \"\",\n        \"description\": \"\"\n      }\n    },\n    {\n      \"column\": \"instrumentalness\",\n      \"properties\": {\n        \"dtype\": \"number\",\n        \"std\": 0.30255033763197137,\n        \"min\": 1e-06,\n        \"max\": 0.996,\n        \"num_unique_values\": 4009,\n        \"samples\": [\n          0.0832,\n          6.06e-05\n        ],\n        \"semantic_type\": \"\",\n        \"description\": \"\"\n      }\n    },\n    {\n      \"column\": \"liveness\",\n      \"properties\": {\n        \"dtype\": \"number\",\n        \"std\": 0.16101845784107305,\n        \"min\": 0.0119,\n        \"max\": 1.0,\n        \"num_unique_values\": 1422,\n        \"samples\": [\n          0.0527,\n          0.279\n        ],\n        \"semantic_type\": \"\",\n        \"description\": \"\"\n      }\n    },\n    {\n      \"column\": \"valence\",\n      \"properties\": {\n        \"dtype\": \"number\",\n        \"std\": 0.23993373496965598,\n        \"min\": 0.0215,\n        \"max\": 0.986,\n        \"num_unique_values\": 1274,\n        \"samples\": [\n          0.572,\n          0.977\n        ],\n        \"semantic_type\": \"\",\n        \"description\": \"\"\n      }\n    },\n    {\n      \"column\": \"tempo\",\n      \"properties\": {\n        \"dtype\": \"number\",\n        \"std\": 29.676659142623972,\n        \"min\": 30.557,\n        \"max\": 217.416,\n        \"num_unique_values\": 11655,\n        \"samples\": [\n          84.267,\n          76.632\n        ],\n        \"semantic_type\": \"\",\n        \"description\": \"\"\n      }\n    },\n    {\n      \"column\": \"duration_in min/ms\",\n      \"properties\": {\n        \"dtype\": \"number\",\n        \"std\": 113980.28309241029,\n        \"min\": 0.50165,\n        \"max\": 1477187.0,\n        \"num_unique_values\": 12114,\n        \"samples\": [\n          141600.0,\n          227185.0\n        ],\n        \"semantic_type\": \"\",\n        \"description\": \"\"\n      }\n    },\n    {\n      \"column\": \"time_signature\",\n      \"properties\": {\n        \"dtype\": \"number\",\n        \"std\": 0,\n        \"min\": 1,\n        \"max\": 5,\n        \"num_unique_values\": 4,\n        \"samples\": [\n          3,\n          5\n        ],\n        \"semantic_type\": \"\",\n        \"description\": \"\"\n      }\n    },\n    {\n      \"column\": \"Genre\",\n      \"properties\": {\n        \"dtype\": \"number\",\n        \"std\": 3,\n        \"min\": 0,\n        \"max\": 10,\n        \"num_unique_values\": 11,\n        \"samples\": [\n          8,\n          5\n        ],\n        \"semantic_type\": \"\",\n        \"description\": \"\"\n      }\n    }\n  ]\n}"
            }
          },
          "metadata": {},
          "execution_count": 75
        }
      ]
    },
    {
      "cell_type": "markdown",
      "source": [
        "Here we are calculating the mean of the 'instrumentalness' column for each group of rows grouped by 'Artist Name'.\n",
        "Then, we fill the missing (NaN) values in the 'instrumentalness' column with the mean of each artist's instrumentalness."
      ],
      "metadata": {
        "id": "UHezGkys3zYV"
      }
    },
    {
      "cell_type": "code",
      "source": [
        "df['instrumentalness'] = df.groupby('Artist Name')['instrumentalness'].transform(lambda x: x.fillna(x.mean()))\n",
        "df['instrumentalness'].isnull().sum()"
      ],
      "metadata": {
        "id": "6RUQP0kf4Kxf",
        "colab": {
          "base_uri": "https://localhost:8080/"
        },
        "outputId": "0b4b5ce2-dd36-453e-e509-5abc5b1e9b5d"
      },
      "execution_count": 76,
      "outputs": [
        {
          "output_type": "execute_result",
          "data": {
            "text/plain": [
              "2022"
            ]
          },
          "metadata": {},
          "execution_count": 76
        }
      ]
    },
    {
      "cell_type": "markdown",
      "source": [
        "I fill missing values in the 'instrumentalness' column of my DataFrame with the mean of all non-missing values in that column and then count how many missing values remain."
      ],
      "metadata": {
        "id": "tCgjksqJ41Wz"
      }
    },
    {
      "cell_type": "code",
      "source": [
        "# impute instrumentalness with the mean of the instrumentalness of all songs\n",
        "df['instrumentalness'] = df['instrumentalness'].fillna(df['instrumentalness'].mean())\n",
        "df['instrumentalness'].isnull().sum()"
      ],
      "metadata": {
        "id": "wVGIWKLI4N1-",
        "colab": {
          "base_uri": "https://localhost:8080/"
        },
        "outputId": "d8b32939-ca2e-4b34-b450-5d59453336ca"
      },
      "execution_count": 77,
      "outputs": [
        {
          "output_type": "execute_result",
          "data": {
            "text/plain": [
              "0"
            ]
          },
          "metadata": {},
          "execution_count": 77
        }
      ]
    },
    {
      "cell_type": "code",
      "source": [
        "df.isnull().sum()"
      ],
      "metadata": {
        "id": "-Apu6FMx7DSF",
        "colab": {
          "base_uri": "https://localhost:8080/"
        },
        "outputId": "2238f283-506e-4111-a25e-7b9b0a05d37a"
      },
      "execution_count": 78,
      "outputs": [
        {
          "output_type": "execute_result",
          "data": {
            "text/plain": [
              "Artist Name           0\n",
              "Track Name            0\n",
              "Popularity            0\n",
              "danceability          0\n",
              "energy                0\n",
              "loudness              0\n",
              "mode                  0\n",
              "speechiness           0\n",
              "acousticness          0\n",
              "instrumentalness      0\n",
              "liveness              0\n",
              "valence               0\n",
              "tempo                 0\n",
              "duration_in min/ms    0\n",
              "time_signature        0\n",
              "Genre                 0\n",
              "dtype: int64"
            ]
          },
          "metadata": {},
          "execution_count": 78
        }
      ]
    },
    {
      "cell_type": "markdown",
      "source": [
        "### Duplicates"
      ],
      "metadata": {
        "id": "ou5in5sx5aff"
      }
    },
    {
      "cell_type": "code",
      "source": [
        "# Before removing duplicates\n",
        "rows_before = df.shape[0]\n",
        "\n",
        "# Drop duplicate rows based on both 'Track Name' and 'Artist Name'\n",
        "df_no_duplicates = df.drop_duplicates(subset=[\"Track Name\", \"Artist Name\"])\n",
        "\n",
        "# after removing duplicates\n",
        "rows_after = df_no_duplicates.shape[0]\n",
        "\n",
        "print(\"Number of rows before removing duplicates:\", rows_before)\n",
        "print(\"Number of rows after removing duplicates:\", rows_after)"
      ],
      "metadata": {
        "id": "gjWqcqqI5hAV",
        "colab": {
          "base_uri": "https://localhost:8080/"
        },
        "outputId": "c2f8829c-7e91-4b1e-81c8-85af48f80efd"
      },
      "execution_count": 79,
      "outputs": [
        {
          "output_type": "stream",
          "name": "stdout",
          "text": [
            "Number of rows before removing duplicates: 15123\n",
            "Number of rows after removing duplicates: 13540\n"
          ]
        }
      ]
    },
    {
      "cell_type": "markdown",
      "source": [
        "### Transformation"
      ],
      "metadata": {
        "id": "tLrYeOua9qaf"
      }
    },
    {
      "cell_type": "markdown",
      "source": [
        "Transform duration to minutes only"
      ],
      "metadata": {
        "id": "8D0HtQc1AxtH"
      }
    },
    {
      "cell_type": "code",
      "source": [
        "df[df['duration_in min/ms'] < 1000]['duration_in min/ms'].sort_values(ascending=False)"
      ],
      "metadata": {
        "id": "G6y78KIZ9yIz",
        "colab": {
          "base_uri": "https://localhost:8080/"
        },
        "outputId": "6c3c89f2-6463-4821-d96b-9ab7bae63000"
      },
      "execution_count": 80,
      "outputs": [
        {
          "output_type": "execute_result",
          "data": {
            "text/plain": [
              "13613    29.886000\n",
              "1108     29.450000\n",
              "13007    23.291550\n",
              "5556     21.592667\n",
              "9881     18.709783\n",
              "           ...    \n",
              "5640      0.987117\n",
              "11302     0.979333\n",
              "8830      0.969150\n",
              "1360      0.533917\n",
              "4184      0.501650\n",
              "Name: duration_in min/ms, Length: 2166, dtype: float64"
            ]
          },
          "metadata": {},
          "execution_count": 80
        }
      ]
    },
    {
      "cell_type": "code",
      "source": [
        "# maximum song length in minutes is 29.8\n",
        "# `duration_in min/ms` > 1000 then divide the value by 60000 to convert it to minutes\n",
        "# we are sure that the all the values > 29.8 are in milliseconds\n",
        "\n",
        "df['duration_in min/ms'] = df['duration_in min/ms'].apply(lambda x: x/60000 if x > 1000 else x)"
      ],
      "metadata": {
        "id": "L2KMFDZfA5AU"
      },
      "execution_count": 81,
      "outputs": []
    },
    {
      "cell_type": "code",
      "source": [
        "sdf = spark.createDataFrame(df)\n",
        "sdf.printSchema()"
      ],
      "metadata": {
        "id": "ysLNPu3ADIGp",
        "colab": {
          "base_uri": "https://localhost:8080/"
        },
        "outputId": "1eb3efcc-346c-4351-c72f-a0c0917f0cc6"
      },
      "execution_count": 82,
      "outputs": [
        {
          "output_type": "stream",
          "name": "stdout",
          "text": [
            "root\n",
            " |-- Artist Name: string (nullable = true)\n",
            " |-- Track Name: string (nullable = true)\n",
            " |-- Popularity: double (nullable = true)\n",
            " |-- danceability: double (nullable = true)\n",
            " |-- energy: double (nullable = true)\n",
            " |-- loudness: double (nullable = true)\n",
            " |-- mode: long (nullable = true)\n",
            " |-- speechiness: double (nullable = true)\n",
            " |-- acousticness: double (nullable = true)\n",
            " |-- instrumentalness: double (nullable = true)\n",
            " |-- liveness: double (nullable = true)\n",
            " |-- valence: double (nullable = true)\n",
            " |-- tempo: double (nullable = true)\n",
            " |-- duration_in min/ms: double (nullable = true)\n",
            " |-- time_signature: long (nullable = true)\n",
            " |-- Genre: long (nullable = true)\n",
            "\n"
          ]
        }
      ]
    },
    {
      "cell_type": "code",
      "source": [
        "sdf.createOrReplaceTempView(\"Spotify_streaming\")"
      ],
      "metadata": {
        "id": "CmMFzHW0DJ2o"
      },
      "execution_count": 83,
      "outputs": []
    },
    {
      "cell_type": "code",
      "source": [
        "# Showing the whole table\n",
        "spark.sql(\"SELECT * FROM Spotify_streaming\").show()"
      ],
      "metadata": {
        "id": "K_tCEwUSDaIO",
        "colab": {
          "base_uri": "https://localhost:8080/"
        },
        "outputId": "1a027fa1-efec-458f-e778-0603638e51da"
      },
      "execution_count": 84,
      "outputs": [
        {
          "output_type": "stream",
          "name": "stdout",
          "text": [
            "+--------------------+--------------------+----------+------------+------+--------+----+-----------+------------+--------------------+--------+-------+-------+------------------+--------------+-----+\n",
            "|         Artist Name|          Track Name|Popularity|danceability|energy|loudness|mode|speechiness|acousticness|    instrumentalness|liveness|valence|  tempo|duration_in min/ms|time_signature|Genre|\n",
            "+--------------------+--------------------+----------+------------+------+--------+----+-----------+------------+--------------------+--------+-------+-------+------------------+--------------+-----+\n",
            "|          Bruno Mars|That's What I Lik...|      60.0|       0.854| 0.564|  -4.964|   1|     0.0485|      0.0171| 0.16094874956104677|  0.0849|  0.899|134.071|3.9099333333333335|             4|    5|\n",
            "|              Boston|        Hitch a Ride|      54.0|       0.382| 0.814|   -7.23|   1|     0.0406|      0.0011|             0.00401|   0.101|  0.569|116.454|           4.19555|             4|   10|\n",
            "|       The Raincoats|  No Side to Fall In|      35.0|       0.434| 0.614|  -8.334|   1|     0.0525|       0.486|             1.96E-4|   0.394|  0.787|147.681|1.8277833333333333|             4|    6|\n",
            "|                Deno|Lingo (feat. J.I ...|      66.0|       0.853| 0.597|  -6.528|   0|     0.0555|      0.0212| 0.16094874956104677|   0.122|  0.569|107.033|2.8994666666666666|             4|    5|\n",
            "|Red Hot Chili Pep...|Nobody Weird Like...|      53.0|       0.167| 0.975|  -4.279|   1|      0.216|     1.69E-4|              0.0161|   0.172| 0.0918| 199.06| 3.832666666666667|             4|   10|\n",
            "|         The Stooges|Search and Destro...|      53.0|       0.235| 0.977|   0.878|   1|      0.107|     0.00353|             0.00604|   0.172|  0.241|152.952|3.4688833333333333|             4|    6|\n",
            "|       Solomon Burke| None Of Us Are Free|      48.0|       0.674| 0.658|  -9.647|   0|      0.104|       0.404|             1.34E-6|  0.0981|  0.677|143.292|5.4897833333333335|             4|    2|\n",
            "|        Randy Travis|   On the Other Hand|      55.0|       0.657| 0.415|  -9.915|   1|      0.025|       0.175|             5.65E-6|   0.132|  0.347|  96.03|       3.105783333|             4|    4|\n",
            "|Professional Murd...|                Slow|      29.0|       0.431| 0.776|  -5.403|   1|     0.0527|     2.21E-5|              0.0013|   0.179|  0.318|120.857|           3.96445|             4|    8|\n",
            "|       Mohammed Rafi|Meri Dosti Mera Pyar|      11.0|       0.491| 0.563|  -8.588|   0|     0.0331|       0.957|              0.0023|   0.263|  0.843| 95.558|           4.33045|             4|    3|\n",
            "|      Arctic Monkeys|The View From The...|      59.0|       0.387| 0.922|  -5.192|   0|     0.0674|     0.00487|0.003638614285714...|   0.187|  0.417|146.478|3.7157833333333334|             4|   10|\n",
            "|Harald Lassen, Br...|  How it feels pt. 2|      34.0|       0.462| 0.374| -12.069|   0|     0.0331|       0.949|               0.929|   0.131|  0.174|122.939|           4.44025|             3|    7|\n",
            "| Buffalo Springfield| For What It's Worth|      76.0|       0.653| 0.519| -10.164|   1|     0.0497|       0.406|              0.0209|   0.101|  0.822| 98.883|           2.56155|             4|   10|\n",
            "|        Elmore James|       Madison Blues|      37.0|       0.431| 0.852|  -6.522|   1|     0.0431|       0.564|               0.208|   0.254|  0.794| 67.601|2.4466666666666668|             4|    2|\n",
            "|  Velvet Two Stripes|              Drinks|      31.0|       0.564| 0.801|   -4.73|   0|     0.0473|     0.00233|              0.0078|   0.067|  0.401| 105.01|           2.57155|             4|   10|\n",
            "|              DaBaby|Baby Sitter (feat...|      70.0|       0.852|  0.73|  -5.803|   1|     0.0579|      0.0219| 0.16094874956104677|   0.336|  0.394| 92.506| 2.628216666666667|             4|    5|\n",
            "|           Mura Masa|Teenage Headache ...|      48.0|       0.347| 0.411|  -8.071|   1|     0.0414|      0.0181|               0.636|  0.0975|  0.395|171.991|4.7168833333333335|             4|    6|\n",
            "|Clairmont The Second|         intres-ting|      44.0|       0.796| 0.441|   -9.83|   1|      0.292|        0.16|             2.89E-5|   0.118|  0.371|158.105|2.2978666666666667|             4|    1|\n",
            "|           Krankhead|          Cut Throat|      29.0|       0.805| 0.448|  -9.452|   1|      0.112|      0.0602|             1.79E-6|   0.113|  0.775|160.018|               2.3|             4|    5|\n",
            "|     The Stone Roses|       Driving South|      44.0|       0.472| 0.947|  -6.128|   1|     0.0774|     9.43E-6|              0.0155|   0.364|   0.75| 98.784|           5.16445|             4|   10|\n",
            "+--------------------+--------------------+----------+------------+------+--------+----+-----------+------------+--------------------+--------+-------+-------+------------------+--------------+-----+\n",
            "only showing top 20 rows\n",
            "\n"
          ]
        }
      ]
    },
    {
      "cell_type": "markdown",
      "source": [
        "### a) Which genre has the highest average popularity?"
      ],
      "metadata": {
        "id": "fm_lE4vgEAe9"
      }
    },
    {
      "cell_type": "code",
      "source": [
        "# the average popularity for each genre\n",
        "sql_query = \"\"\"\n",
        "SELECT Genre, AVG(Popularity) AS AvgPopularity\n",
        "FROM Spotify_streaming\n",
        "GROUP BY Genre\n",
        "ORDER BY AvgPopularity DESC\n",
        "LIMIT 1\n",
        "\"\"\"\n",
        "\n",
        "# Execute query and results\n",
        "result = spark.sql(sql_query)\n",
        "result.show()"
      ],
      "metadata": {
        "id": "F0cd7jzeEx-0",
        "colab": {
          "base_uri": "https://localhost:8080/"
        },
        "outputId": "549b8afa-e3b7-4698-d5cf-0583edd7f2c4"
      },
      "execution_count": 85,
      "outputs": [
        {
          "output_type": "stream",
          "name": "stdout",
          "text": [
            "+-----+-----------------+\n",
            "|Genre|    AvgPopularity|\n",
            "+-----+-----------------+\n",
            "|    4|57.36974789915966|\n",
            "+-----+-----------------+\n",
            "\n"
          ]
        }
      ]
    },
    {
      "cell_type": "markdown",
      "source": [
        "### b) Display which artists have recorded the most number of songs with a duration of more than 5 minutes ?"
      ],
      "metadata": {
        "id": "xUuwjvyJEFLz"
      }
    },
    {
      "cell_type": "code",
      "source": [
        "# filter songs with a duration of more than 5 minutes, group by artist, and count the number of songs for each artist\n",
        "sql_query = \"\"\"\n",
        "SELECT `Artist Name`, COUNT(*) AS NumSongs\n",
        "FROM Spotify_streaming\n",
        "WHERE `duration_in min/ms` > 5\n",
        "GROUP BY `Artist Name`\n",
        "ORDER BY NumSongs DESC\n",
        "\"\"\"\n",
        "\n",
        "result = spark.sql(sql_query)\n",
        "result.show()"
      ],
      "metadata": {
        "id": "--P15JO_Eyj9",
        "colab": {
          "base_uri": "https://localhost:8080/"
        },
        "outputId": "0806d2c8-303b-4984-cb2a-ebbe31eda7ca"
      },
      "execution_count": 86,
      "outputs": [
        {
          "output_type": "stream",
          "name": "stdout",
          "text": [
            "+--------------------+--------+\n",
            "|         Artist Name|NumSongs|\n",
            "+--------------------+--------+\n",
            "|           Metallica|      21|\n",
            "|                TOOL|      13|\n",
            "|         Arcade Fire|      12|\n",
            "|        Led Zeppelin|      12|\n",
            "|           Aerosmith|      10|\n",
            "|           Pearl Jam|       9|\n",
            "|         Asha Bhosle|       8|\n",
            "|        Dire Straits|       7|\n",
            "|               Kyuss|       6|\n",
            "|Kenny Wayne Shepherd|       6|\n",
            "|       Wooden Shjips|       6|\n",
            "|       Mohammed Rafi|       6|\n",
            "|         Sonic Youth|       6|\n",
            "|     Lata Mangeshkar|       6|\n",
            "|             Pantera|       6|\n",
            "|       Joe Bonamassa|       6|\n",
            "|       Guns N' Roses|       6|\n",
            "|   Avenged Sevenfold|       5|\n",
            "|      Monster Magnet|       5|\n",
            "|             Advaita|       5|\n",
            "+--------------------+--------+\n",
            "only showing top 20 rows\n",
            "\n"
          ]
        }
      ]
    },
    {
      "cell_type": "markdown",
      "source": [
        "### c) How many songs are included in every Genre?"
      ],
      "metadata": {
        "id": "ro81Qbe4EMY5"
      }
    },
    {
      "cell_type": "code",
      "source": [
        "# This query group the songs by genre and count the number of songs for each genre\n",
        "sql_query = \"\"\"\n",
        "SELECT Genre, COUNT(*) AS NumSongs\n",
        "FROM Spotify_streaming\n",
        "GROUP BY Genre\n",
        "ORDER BY NumSongs DESC\n",
        "\"\"\"\n",
        "\n",
        "result = spark.sql(sql_query)\n",
        "result.show()"
      ],
      "metadata": {
        "id": "6CEC0vbLEy95",
        "colab": {
          "base_uri": "https://localhost:8080/"
        },
        "outputId": "fe91b09f-f121-4c4a-c439-7f11000405e8"
      },
      "execution_count": 87,
      "outputs": [
        {
          "output_type": "stream",
          "name": "stdout",
          "text": [
            "+-----+--------+\n",
            "|Genre|NumSongs|\n",
            "+-----+--------+\n",
            "|   10|    4185|\n",
            "|    6|    2223|\n",
            "|    9|    1768|\n",
            "|    8|    1675|\n",
            "|    1|    1241|\n",
            "|    5|    1189|\n",
            "|    2|    1169|\n",
            "|    0|     517|\n",
            "|    7|     441|\n",
            "|    3|     358|\n",
            "|    4|     357|\n",
            "+-----+--------+\n",
            "\n"
          ]
        }
      ]
    },
    {
      "cell_type": "markdown",
      "source": [
        "### d) Which artists dominated the charts?"
      ],
      "metadata": {
        "id": "4e4hC4OcErp2"
      }
    },
    {
      "cell_type": "code",
      "source": [
        "# calculate the total popularity for each artist\n",
        "sql_query = \"\"\"\n",
        "SELECT `Artist Name`, COUNT(*) AS SongCount\n",
        "FROM Spotify_streaming\n",
        "GROUP BY `Artist Name`\n",
        "ORDER BY SongCount DESC\n",
        "\"\"\"\n",
        "\n",
        "result = spark.sql(sql_query)\n",
        "result.show()"
      ],
      "metadata": {
        "id": "uMb8alF2EzZr",
        "colab": {
          "base_uri": "https://localhost:8080/"
        },
        "outputId": "bc708cb2-0d63-4ebd-eade-37d3b76b226d"
      },
      "execution_count": 88,
      "outputs": [
        {
          "output_type": "stream",
          "name": "stdout",
          "text": [
            "+--------------------+---------+\n",
            "|         Artist Name|SongCount|\n",
            "+--------------------+---------+\n",
            "|     Backstreet Boys|       66|\n",
            "|      Britney Spears|       43|\n",
            "|  The Rolling Stones|       32|\n",
            "|                  U2|       29|\n",
            "|           Metallica|       27|\n",
            "|            Westlife|       27|\n",
            "|     Lata Mangeshkar|       23|\n",
            "|               AC/DC|       23|\n",
            "|      The Black Keys|       22|\n",
            "|       Fleetwood Mac|       22|\n",
            "|             Nirvana|       22|\n",
            "|        Led Zeppelin|       22|\n",
            "|       Mohammed Rafi|       21|\n",
            "|            Coldplay|       20|\n",
            "|       Kishore Kumar|       20|\n",
            "|           Pearl Jam|       18|\n",
            "|The Smashing Pump...|       17|\n",
            "|           Van Halen|       17|\n",
            "|Creedence Clearwa...|       17|\n",
            "|           Aerosmith|       17|\n",
            "+--------------------+---------+\n",
            "only showing top 20 rows\n",
            "\n"
          ]
        }
      ]
    },
    {
      "cell_type": "markdown",
      "source": [
        "### e) Recommend at least 5 fun/not-boring songs that can be played at a party, you can use features like energy, danceability etc.. to represent cheerfulness.\n"
      ],
      "metadata": {
        "id": "IshaPPR7EYhP"
      }
    },
    {
      "cell_type": "code",
      "source": [
        "# songs with high danceability: Describes how suitable a track is for dancing\n",
        "# high tempo: is the speed or pace of a given piece\n",
        "# high loudness\n",
        "# high valence: Tracks with high valence sound more positive\n",
        "spark.sql(\"SELECT `Track Name`, `Artist Name`, danceability, tempo, loudness, valence FROM Spotify_streaming ORDER BY danceability DESC, tempo DESC, loudness DESC, valence DESC LIMIT 5\").show()"
      ],
      "metadata": {
        "id": "VtRZdmKE8qu-",
        "colab": {
          "base_uri": "https://localhost:8080/"
        },
        "outputId": "335734bc-4cfe-488d-e0c0-e5321bad6237"
      },
      "execution_count": 89,
      "outputs": [
        {
          "output_type": "stream",
          "name": "stdout",
          "text": [
            "+--------------------+---------------+------------+-------+--------+-------+\n",
            "|          Track Name|    Artist Name|danceability|  tempo|loudness|valence|\n",
            "+--------------------+---------------+------------+-------+--------+-------+\n",
            "|      Gucci Umbrella|Whookilledkenny|       0.989|120.004|   -7.02|  0.604|\n",
            "|Divine Gosa - Swi...|      Radioclit|       0.982|131.023|  -4.956|  0.866|\n",
            "|Divine Gosa - Swi...|      Radioclit|       0.982|131.023|  -4.956|  0.866|\n",
            "|           kawamurra|        sunflwr|        0.98|126.004|  -9.665|  0.285|\n",
            "|  Dancing in My Room|       347aidan|        0.98|119.993| -11.052|  0.764|\n",
            "+--------------------+---------------+------------+-------+--------+-------+\n",
            "\n"
          ]
        }
      ]
    },
    {
      "cell_type": "markdown",
      "source": [
        "## ML MODELS"
      ],
      "metadata": {
        "id": "t0F1W2BvZ5hu"
      }
    },
    {
      "cell_type": "markdown",
      "source": [
        "### Preparing Data for Machine Learning"
      ],
      "metadata": {
        "id": "rDaQRvScaHW-"
      }
    },
    {
      "cell_type": "code",
      "source": [
        "from pyspark.ml.feature import VectorAssembler\n",
        "from pyspark.ml.classification import LogisticRegression, RandomForestClassifier, DecisionTreeClassifier\n",
        "from pyspark.ml import Pipeline\n",
        "from pyspark.sql import DataFrame\n",
        "\n",
        "# Define numeric columns and featurization pipeline\n",
        "numericCols = ['danceability', 'energy', 'loudness', 'speechiness', 'acousticness', 'instrumentalness', 'liveness', 'valence', 'tempo']\n",
        "featurizationPipeline = Pipeline(stages=[VectorAssembler(inputCols=numericCols, outputCol=\"features\")])\n",
        "\n",
        "# Fit the featurization pipeline to the data\n",
        "featurizationPipelineModel = featurizationPipeline.fit(sdf)\n",
        "sdf = featurizationPipelineModel.transform(sdf)\n",
        "\n",
        "# Split the data into training and testing sets\n",
        "train_data, test_data = sdf.randomSplit([0.7, 0.3], seed=42)\n",
        "\n",
        "train_data.createOrReplaceTempView(\"train_data_view\")\n",
        "test_data.createOrReplaceTempView(\"test_data_view\")"
      ],
      "metadata": {
        "id": "y7x_9_EorsrG"
      },
      "execution_count": 90,
      "outputs": []
    },
    {
      "cell_type": "markdown",
      "source": [
        "### Logistic Regression Model"
      ],
      "metadata": {
        "id": "YEVdyAX1aQ_4"
      }
    },
    {
      "cell_type": "code",
      "source": [
        "from pyspark.ml.classification import LogisticRegression\n",
        "\n",
        "# Create a Logistic Regression classifier\n",
        "lr = LogisticRegression(featuresCol='features', labelCol='Genre')\n",
        "\n",
        "# Fit the model to the training data\n",
        "lr_model = lr.fit(train_data)\n",
        "\n",
        "# Make predictions on the test data\n",
        "lr_predictions = lr_model.transform(test_data)"
      ],
      "metadata": {
        "id": "mIPovttHru2y"
      },
      "execution_count": 91,
      "outputs": []
    },
    {
      "cell_type": "markdown",
      "source": [
        "### Random Forest Model"
      ],
      "metadata": {
        "id": "h9kGNdn-aWTg"
      }
    },
    {
      "cell_type": "code",
      "source": [
        "from pyspark.ml.classification import RandomForestClassifier\n",
        "\n",
        "# Create a Random Forest classifier\n",
        "rf = RandomForestClassifier(featuresCol='features', labelCol='Genre')\n",
        "\n",
        "# Fit the model to the training data\n",
        "rf_model = rf.fit(train_data)\n",
        "\n",
        "# Make predictions on the test data\n",
        "rf_predictions = rf_model.transform(test_data)"
      ],
      "metadata": {
        "id": "oziaIYuMr29c"
      },
      "execution_count": 92,
      "outputs": []
    },
    {
      "cell_type": "markdown",
      "source": [
        "### Decision Tree Model"
      ],
      "metadata": {
        "id": "axySRPwuabUf"
      }
    },
    {
      "cell_type": "code",
      "source": [
        "from pyspark.ml.classification import DecisionTreeClassifier\n",
        "\n",
        "# Create a Decision Tree classifier\n",
        "dt = DecisionTreeClassifier(featuresCol='features', labelCol='Genre')\n",
        "\n",
        "# Fit the model to the training data\n",
        "dt_model = dt.fit(train_data)\n",
        "\n",
        "# Make predictions on the test data\n",
        "dt_predictions = dt_model.transform(test_data)"
      ],
      "metadata": {
        "id": "1d3iR2-krxet"
      },
      "execution_count": 93,
      "outputs": []
    },
    {
      "cell_type": "markdown",
      "source": [
        "# Models Results"
      ],
      "metadata": {
        "id": "cehBMG1gsDqi"
      }
    },
    {
      "cell_type": "code",
      "source": [
        "from pyspark.ml.evaluation import MulticlassClassificationEvaluator\n",
        "\n",
        "# Create an evaluator for accuracy\n",
        "evaluator = MulticlassClassificationEvaluator(labelCol='Genre', predictionCol='prediction', metricName='accuracy')\n",
        "\n",
        "#  Logistic Regression\n",
        "lr_accuracy = evaluator.evaluate(lr_predictions)\n",
        "\n",
        "#  Decision Tree Classifier\n",
        "dt_accuracy = evaluator.evaluate(dt_predictions)\n",
        "\n",
        "#  Random Forest Classifier\n",
        "rf_accuracy = evaluator.evaluate(rf_predictions)\n",
        "\n",
        "# Print the accuracies\n",
        "print(\"Logistic Regression Accuracy:\", lr_accuracy)\n",
        "print(\"Random Forest Accuracy:\", rf_accuracy)\n",
        "print(\"Decision Tree Accuracy:\", dt_accuracy)"
      ],
      "metadata": {
        "colab": {
          "base_uri": "https://localhost:8080/"
        },
        "id": "mv6Ge41QsICK",
        "outputId": "3ea086a1-c76e-4e08-9f07-fad4e58989ee"
      },
      "execution_count": 94,
      "outputs": [
        {
          "output_type": "stream",
          "name": "stdout",
          "text": [
            "Logistic Regression Accuracy: 0.4157175398633257\n",
            "Random Forest Accuracy: 0.41116173120728927\n",
            "Decision Tree Accuracy: 0.3929384965831435\n"
          ]
        }
      ]
    },
    {
      "cell_type": "markdown",
      "source": [
        "### Insights"
      ],
      "metadata": {
        "id": "cPa3azV3hSvF"
      }
    },
    {
      "cell_type": "markdown",
      "source": [
        "\n",
        "Logistic Regression achieved the highest accuracy (41.36%) in predicting song genres based on provided features, outperforming Random Forest (39.86%) and Decision Tree (39.19%) models."
      ],
      "metadata": {
        "id": "0fYixmLlhc0S"
      }
    }
  ]
}